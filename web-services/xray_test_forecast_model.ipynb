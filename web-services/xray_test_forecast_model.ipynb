{
 "cells": [
  {
   "cell_type": "markdown",
   "metadata": {},
   "source": [
    "#Testing Xray on weather forecast model data"
   ]
  },
  {
   "cell_type": "code",
   "execution_count": 21,
   "metadata": {
    "collapsed": false
   },
   "outputs": [],
   "source": [
    "import xray\n",
    "import datetime\n",
    "import matplotlib.pyplot as plt\n",
    "import numpy as np\n",
    "import pandas as pd\n",
    "%matplotlib inline"
   ]
  },
  {
   "cell_type": "code",
   "execution_count": 22,
   "metadata": {
    "collapsed": false
   },
   "outputs": [],
   "source": [
    "URL = 'http://thredds.ucar.edu/thredds/dodsC/grib/NCEP/GFS/Global_0p5deg/Best'"
   ]
  },
  {
   "cell_type": "code",
   "execution_count": 23,
   "metadata": {
    "collapsed": false
   },
   "outputs": [],
   "source": [
    "ds = xray.open_dataset(URL)"
   ]
  },
  {
   "cell_type": "code",
   "execution_count": 24,
   "metadata": {
    "collapsed": false
   },
   "outputs": [
    {
     "data": {
      "text/plain": [
       "<xray.Dataset>\n",
       "Dimensions:                                                                     (altitude_above_msl: 3, depth_below_surface_layer: 4, depth_below_surface_layer_bounds_1: 2, height_above_ground: 1, height_above_ground1: 2, height_above_ground2: 1, height_above_ground3: 3, height_above_ground4: 3, height_above_ground_layer: 1, height_above_ground_layer1: 1, height_above_ground_layer1_bounds_1: 2, height_above_ground_layer_bounds_1: 2, isobaric: 12, isobaric1: 1, isobaric2: 21, isobaric3: 26, lat: 361, lon: 720, potential_vorticity_surface: 2, pressure_difference_layer: 1, pressure_difference_layer1: 1, pressure_difference_layer1_bounds_1: 2, pressure_difference_layer2: 2, pressure_difference_layer2_bounds_1: 2, pressure_difference_layer_bounds_1: 2, sigma: 1, sigma_layer: 4, sigma_layer_bounds_1: 2, time: 207, time1: 206, time2: 206, time2_bounds_1: 2)\n",
       "Coordinates:\n",
       "  * lat                                                                         (lat) float32 90.0 ...\n",
       "  * lon                                                                         (lon) float32 0.0 ...\n",
       "  * time                                                                        (time) datetime64[ns] 2015-08-21 ...\n",
       "    reftime                                                                     (time) datetime64[ns] ...\n",
       "  * time1                                                                       (time1) datetime64[ns] 2015-08-21T03:00:00 ...\n",
       "    reftime1                                                                    (time1) datetime64[ns] ...\n",
       "  * time2                                                                       (time2) datetime64[ns] 2015-08-21T03:00:00 ...\n",
       "    reftime2                                                                    (time2) datetime64[ns] ...\n",
       "  * depth_below_surface_layer                                                   (depth_below_surface_layer) float32 0.05 ...\n",
       "  * isobaric                                                                    (isobaric) float32 1000.0 ...\n",
       "  * height_above_ground_layer                                                   (height_above_ground_layer) float32 1500.0 ...\n",
       "  * height_above_ground                                                         (height_above_ground) float32 2.0 ...\n",
       "  * potential_vorticity_surface                                                 (potential_vorticity_surface) float32 -2e-06 ...\n",
       "  * pressure_difference_layer                                                   (pressure_difference_layer) float32 1500.0 ...\n",
       "  * isobaric1                                                                   (isobaric1) float32 50000.0 ...\n",
       "  * height_above_ground1                                                        (height_above_ground1) float32 2.0 ...\n",
       "  * height_above_ground2                                                        (height_above_ground2) float32 80.0 ...\n",
       "  * isobaric2                                                                   (isobaric2) float32 10000.0 ...\n",
       "  * sigma                                                                       (sigma) float32 0.995 ...\n",
       "  * altitude_above_msl                                                          (altitude_above_msl) float32 1829.0 ...\n",
       "  * height_above_ground3                                                        (height_above_ground3) float32 10.0 ...\n",
       "  * height_above_ground_layer1                                                  (height_above_ground_layer1) float32 3000.0 ...\n",
       "  * pressure_difference_layer1                                                  (pressure_difference_layer1) float32 12750.0 ...\n",
       "  * isobaric3                                                                   (isobaric3) float32 1000.0 ...\n",
       "  * sigma_layer                                                                 (sigma_layer) float32 0.58 ...\n",
       "  * pressure_difference_layer2                                                  (pressure_difference_layer2) float32 9000.0 ...\n",
       "  * height_above_ground4                                                        (height_above_ground4) float32 2.0 ...\n",
       "  * depth_below_surface_layer_bounds_1                                          (depth_below_surface_layer_bounds_1) int64 0 ...\n",
       "  * height_above_ground_layer1_bounds_1                                         (height_above_ground_layer1_bounds_1) int64 0 ...\n",
       "  * height_above_ground_layer_bounds_1                                          (height_above_ground_layer_bounds_1) int64 0 ...\n",
       "  * pressure_difference_layer1_bounds_1                                         (pressure_difference_layer1_bounds_1) int64 0 ...\n",
       "  * pressure_difference_layer2_bounds_1                                         (pressure_difference_layer2_bounds_1) int64 0 ...\n",
       "  * pressure_difference_layer_bounds_1                                          (pressure_difference_layer_bounds_1) int64 0 ...\n",
       "  * sigma_layer_bounds_1                                                        (sigma_layer_bounds_1) int64 0 ...\n",
       "  * time2_bounds_1                                                              (time2_bounds_1) int64 0 ...\n",
       "Data variables:\n",
       "    LatLon_Projection                                                           int32 ...\n",
       "    time2_bounds                                                                (time2, time2_bounds_1) datetime64[ns] ...\n",
       "    depth_below_surface_layer_bounds                                            (depth_below_surface_layer, depth_below_surface_layer_bounds_1) float32 ...\n",
       "    height_above_ground_layer_bounds                                            (height_above_ground_layer, height_above_ground_layer_bounds_1) float32 ...\n",
       "    pressure_difference_layer_bounds                                            (pressure_difference_layer, pressure_difference_layer_bounds_1) float32 ...\n",
       "    height_above_ground_layer1_bounds                                           (height_above_ground_layer1, height_above_ground_layer1_bounds_1) float32 ...\n",
       "    pressure_difference_layer1_bounds                                           (pressure_difference_layer1, pressure_difference_layer1_bounds_1) float32 ...\n",
       "    sigma_layer_bounds                                                          (sigma_layer, sigma_layer_bounds_1) float32 ...\n",
       "    pressure_difference_layer2_bounds                                           (pressure_difference_layer2, pressure_difference_layer2_bounds_1) float32 ...\n",
       "    Total_ozone_entire_atmosphere_single_layer                                  (time, lat, lon) float64 ...\n",
       "    Ozone_Mixing_Ratio_isobaric                                                 (time, isobaric, lat, lon) float64 ...\n",
       "    Momentum_flux_u-component_surface_Mixed_intervals_Average                   (time2, lat, lon) float64 ...\n",
       "    Momentum_flux_v-component_surface_Mixed_intervals_Average                   (time2, lat, lon) float64 ...\n",
       "    Surface_Lifted_Index_surface                                                (time, lat, lon) float64 ...\n",
       "    Downward_Short-Wave_Radiation_Flux_surface_Mixed_intervals_Average          (time2, lat, lon) float64 ...\n",
       "    Downward_Long-Wave_Radp_Flux_surface_Mixed_intervals_Average                (time2, lat, lon) float64 ...\n",
       "    Pressure_middle_cloud_bottom_Mixed_intervals_Average                        (time2, lat, lon) float64 ...\n",
       "    Pressure_middle_cloud_top_Mixed_intervals_Average                           (time2, lat, lon) float64 ...\n",
       "    Pressure_convective_cloud_bottom                                            (time1, lat, lon) float64 ...\n",
       "    Pressure_convective_cloud_top                                               (time1, lat, lon) float64 ...\n",
       "    Pressure_low_cloud_bottom_Mixed_intervals_Average                           (time2, lat, lon) float64 ...\n",
       "    Pressure_low_cloud_top_Mixed_intervals_Average                              (time2, lat, lon) float64 ...\n",
       "    Ventilation_Rate_planetary_boundary                                         (time, lat, lon) float64 ...\n",
       "    Pressure_high_cloud_top_Mixed_intervals_Average                             (time2, lat, lon) float64 ...\n",
       "    Vertical_Speed_Shear_potential_vorticity_surface                            (time, potential_vorticity_surface, lat, lon) float64 ...\n",
       "    Pressure_high_cloud_bottom_Mixed_intervals_Average                          (time2, lat, lon) float64 ...\n",
       "    MSLP_Eta_model_reduction_msl                                                (time, lat, lon) float64 ...\n",
       "    Vertical_Speed_Shear_tropopause                                             (time, lat, lon) float64 ...\n",
       "    Wind_speed_gust_surface                                                     (time, lat, lon) float64 ...\n",
       "    Pressure_of_level_from_which_parcel_was_lifted_pressure_difference_layer    (time, pressure_difference_layer1, lat, lon) float64 ...\n",
       "    Temperature_middle_cloud_top_Mixed_intervals_Average                        (time2, lat, lon) float64 ...\n",
       "    Temperature_high_cloud_top_Mixed_intervals_Average                          (time2, lat, lon) float64 ...\n",
       "    Temperature_low_cloud_top_Mixed_intervals_Average                           (time2, lat, lon) float64 ...\n",
       "    Categorical_Rain_surface_Mixed_intervals_Average                            (time2, lat, lon) float64 ...\n",
       "    Potential_Evaporation_Rate_surface                                          (time1, lat, lon) float64 ...\n",
       "    Volumetric_Soil_Moisture_Content_depth_below_surface_layer                  (time, depth_below_surface_layer, lat, lon) float64 ...\n",
       "    Ice_cover_surface                                                           (time, lat, lon) float64 ...\n",
       "    Land_cover_0__sea_1__land_surface                                           (time, lat, lon) float64 ...\n",
       "    Pressure_surface                                                            (time, lat, lon) float64 ...\n",
       "    Specific_humidity_pressure_difference_layer                                 (time, pressure_difference_layer, lat, lon) float64 ...\n",
       "    Temperature_surface                                                         (time, lat, lon) float64 ...\n",
       "    Temperature_pressure_difference_layer                                       (time, pressure_difference_layer, lat, lon) float64 ...\n",
       "    Albedo_surface_Mixed_intervals_Average                                      (time2, lat, lon) float64 ...\n",
       "    Relative_humidity_sigma_layer                                               (time, sigma_layer, lat, lon) float64 ...\n",
       "    Relative_humidity_pressure_difference_layer                                 (time, pressure_difference_layer, lat, lon) float64 ...\n",
       "    Haines_Index_surface                                                        (time, lat, lon) float64 ...\n",
       "    Soil_temperature_depth_below_surface_layer                                  (time, depth_below_surface_layer, lat, lon) float64 ...\n",
       "    u-component_of_wind_pressure_difference_layer                               (time, pressure_difference_layer, lat, lon) float64 ...\n",
       "    v-component_of_wind_pressure_difference_layer                               (time, pressure_difference_layer, lat, lon) float64 ...\n",
       "    Geopotential_height_surface                                                 (time, lat, lon) float64 ...\n",
       "    Water_runoff_surface_Mixed_intervals_Accumulation                           (time2, lat, lon) float64 ...\n",
       "    Convective_available_potential_energy_surface                               (time, lat, lon) float64 ...\n",
       "    Convective_available_potential_energy_pressure_difference_layer             (time, pressure_difference_layer2, lat, lon) float64 ...\n",
       "    Convective_inhibition_pressure_difference_layer                             (time, pressure_difference_layer2, lat, lon) float64 ...\n",
       "    Convective_inhibition_surface                                               (time, lat, lon) float64 ...\n",
       "    Precipitation_rate_surface_Mixed_intervals_Average                          (time2, lat, lon) float64 ...\n",
       "    Storm_relative_helicity_height_above_ground_layer                           (time, height_above_ground_layer, lat, lon) float64 ...\n",
       "    Total_precipitation_surface_Mixed_intervals_Accumulation                    (time2, lat, lon) float64 ...\n",
       "    Convective_precipitation_surface_Mixed_intervals_Accumulation               (time2, lat, lon) float64 ...\n",
       "    Latent_heat_net_flux_surface_Mixed_intervals_Average                        (time2, lat, lon) float64 ...\n",
       "    Sensible_heat_net_flux_surface_Mixed_intervals_Average                      (time2, lat, lon) float64 ...\n",
       "    Snow_depth_surface                                                          (time, lat, lon) float64 ...\n",
       "    Water_equivalent_of_accumulated_snow_depth_surface                          (time, lat, lon) float64 ...\n",
       "    Total_cloud_cover_high_cloud_Mixed_intervals_Average                        (time2, lat, lon) float64 ...\n",
       "    Total_cloud_cover_convective_cloud                                          (time1, lat, lon) float64 ...\n",
       "    Total_cloud_cover_middle_cloud_Mixed_intervals_Average                      (time2, lat, lon) float64 ...\n",
       "    Total_cloud_cover_boundary_layer_cloud_Mixed_intervals_Average              (time2, lat, lon) float64 ...\n",
       "    Total_cloud_cover_low_cloud_Mixed_intervals_Average                         (time2, lat, lon) float64 ...\n",
       "    Cloud_Work_Function_entire_atmosphere_single_layer_Mixed_intervals_Average  (time2, lat, lon) float64 ...\n",
       "    Sunshine_Duration_surface                                                   (time, lat, lon) float64 ...\n",
       "    Best_4_layer_Lifted_Index_surface                                           (time, lat, lon) float64 ...\n",
       "    Upward_Short-Wave_Radiation_Flux_atmosphere_top_Mixed_intervals_Average     (time2, lat, lon) float64 ...\n",
       "    Upward_Short-Wave_Radiation_Flux_surface_Mixed_intervals_Average            (time2, lat, lon) float64 ...\n",
       "    Upward_Long-Wave_Radp_Flux_atmosphere_top_Mixed_intervals_Average           (time2, lat, lon) float64 ...\n",
       "    Upward_Long-Wave_Radp_Flux_surface_Mixed_intervals_Average                  (time2, lat, lon) float64 ...\n",
       "    5-Wave_Geopotential_Height_isobaric                                         (time, isobaric1, lat, lon) float64 ...\n",
       "    Relative_humidity_entire_atmosphere_single_layer                            (time, lat, lon) float64 ...\n",
       "    Relative_humidity_highest_tropospheric_freezing                             (time, lat, lon) float64 ...\n",
       "    Categorical_Freezing_Rain_surface_Mixed_intervals_Average                   (time2, lat, lon) float64 ...\n",
       "    Ground_Heat_Flux_surface_Mixed_intervals_Average                            (time2, lat, lon) float64 ...\n",
       "    Wilting_Point_surface                                                       (time, lat, lon) float64 ...\n",
       "    Per_cent_frozen_precipitation_surface                                       (time, lat, lon) float64 ...\n",
       "    Temperature_isobaric                                                        (time, isobaric3, lat, lon) float64 ...\n",
       "    Relative_humidity_isobaric                                                  (time, isobaric3, lat, lon) float64 ...\n",
       "    Relative_humidity_zeroDegC_isotherm                                         (time, lat, lon) float64 ...\n",
       "    u-component_of_wind_isobaric                                                (time, isobaric3, lat, lon) float64 ...\n",
       "    v-component_of_wind_isobaric                                                (time, isobaric3, lat, lon) float64 ...\n",
       "    Geopotential_height_isobaric                                                (time, isobaric3, lat, lon) float64 ...\n",
       "    Geopotential_height_zeroDegC_isotherm                                       (time, lat, lon) float64 ...\n",
       "    U-Component_Storm_Motion_height_above_ground_layer                          (time, height_above_ground_layer1, lat, lon) float64 ...\n",
       "    Zonal_Flux_of_Gravity_Wave_Stress_surface_Mixed_intervals_Average           (time2, lat, lon) float64 ...\n",
       "    u-component_of_wind_planetary_boundary                                      (time, lat, lon) float64 ...\n",
       "    Categorical_Ice_Pellets_surface_Mixed_intervals_Average                     (time2, lat, lon) float64 ...\n",
       "    Vertical_velocity_pressure_isobaric                                         (time, isobaric2, lat, lon) float64 ...\n",
       "    Absolute_vorticity_isobaric                                                 (time, isobaric3, lat, lon) float64 ...\n",
       "    Pressure_reduced_to_MSL_msl                                                 (time, lat, lon) float64 ...\n",
       "    Cloud_mixing_ratio_isobaric                                                 (time, isobaric2, lat, lon) float64 ...\n",
       "    Pressure_maximum_wind                                                       (time, lat, lon) float64 ...\n",
       "    Temperature_altitude_above_msl                                              (time, altitude_above_msl, lat, lon) float64 ...\n",
       "    Temperature_maximum_wind                                                    (time, lat, lon) float64 ...\n",
       "    u-component_of_wind_altitude_above_msl                                      (time, altitude_above_msl, lat, lon) float64 ...\n",
       "    u-component_of_wind_maximum_wind                                            (time, lat, lon) float64 ...\n",
       "    ICAO_Standard_Atmosphere_Reference_Height_maximum_wind                      (time, lat, lon) float64 ...\n",
       "    v-component_of_wind_maximum_wind                                            (time, lat, lon) float64 ...\n",
       "    v-component_of_wind_altitude_above_msl                                      (time, altitude_above_msl, lat, lon) float64 ...\n",
       "    Apparent_temperature_height_above_ground                                    (time, height_above_ground, lat, lon) float64 ...\n",
       "    Geopotential_height_maximum_wind                                            (time, lat, lon) float64 ...\n",
       "    V-Component_Storm_Motion_height_above_ground_layer                          (time, height_above_ground_layer1, lat, lon) float64 ...\n",
       "    Meridional_Flux_of_Gravity_Wave_Stress_surface_Mixed_intervals_Average      (time2, lat, lon) float64 ...\n",
       "    Field_Capacity_surface                                                      (time, lat, lon) float64 ...\n",
       "    v-component_of_wind_planetary_boundary                                      (time, lat, lon) float64 ...\n",
       "    Precipitable_water_entire_atmosphere_single_layer                           (time, lat, lon) float64 ...\n",
       "    Categorical_Snow_surface_Mixed_intervals_Average                            (time2, lat, lon) float64 ...\n",
       "    Pressure_height_above_ground                                                (time, height_above_ground2, lat, lon) float64 ...\n",
       "    Pressure_tropopause                                                         (time, lat, lon) float64 ...\n",
       "    Specific_humidity_height_above_ground                                       (time, height_above_ground1, lat, lon) float64 ...\n",
       "    Temperature_height_above_ground                                             (time, height_above_ground4, lat, lon) float64 ...\n",
       "    Temperature_tropopause                                                      (time, lat, lon) float64 ...\n",
       "    Relative_humidity_height_above_ground                                       (time, height_above_ground, lat, lon) float64 ...\n",
       "    u-component_of_wind_height_above_ground                                     (time, height_above_ground3, lat, lon) float64 ...\n",
       "    u-component_of_wind_tropopause                                              (time, lat, lon) float64 ...\n",
       "    ICAO_Standard_Atmosphere_Reference_Height_tropopause                        (time, lat, lon) float64 ...\n",
       "    v-component_of_wind_height_above_ground                                     (time, height_above_ground3, lat, lon) float64 ...\n",
       "    v-component_of_wind_tropopause                                              (time, lat, lon) float64 ...\n",
       "    Maximum_temperature_height_above_ground_Mixed_intervals_Maximum             (time2, height_above_ground, lat, lon) float64 ...\n",
       "    Geopotential_height_tropopause                                              (time, lat, lon) float64 ...\n",
       "    Minimum_temperature_height_above_ground_Mixed_intervals_Minimum             (time2, height_above_ground, lat, lon) float64 ...\n",
       "    Dewpoint_temperature_height_above_ground                                    (time, height_above_ground, lat, lon) float64 ...\n",
       "    Temperature_sigma                                                           (time, sigma, lat, lon) float64 ...\n",
       "    Relative_humidity_sigma                                                     (time, sigma, lat, lon) float64 ...\n",
       "    Potential_temperature_sigma                                                 (time, sigma, lat, lon) float64 ...\n",
       "    u-component_of_wind_sigma                                                   (time, sigma, lat, lon) float64 ...\n",
       "    v-component_of_wind_sigma                                                   (time, sigma, lat, lon) float64 ...\n",
       "    Planetary_Boundary_Layer_Height_surface                                     (time, lat, lon) float64 ...\n",
       "    Convective_Precipitation_Rate_surface_Mixed_intervals_Average               (time2, lat, lon) float64 ...\n",
       "    Vertical_velocity_pressure_sigma                                            (time, sigma, lat, lon) float64 ...\n",
       "    Total_cloud_cover_entire_atmosphere_Mixed_intervals_Average                 (time2, lat, lon) float64 ...\n",
       "    Geopotential_height_highest_tropospheric_freezing                           (time, lat, lon) float64 ...\n",
       "    Cloud_water_entire_atmosphere_single_layer                                  (time, lat, lon) float64 ...\n",
       "    Pressure_potential_vorticity_surface                                        (time, potential_vorticity_surface, lat, lon) float64 ...\n",
       "    Temperature_potential_vorticity_surface                                     (time, potential_vorticity_surface, lat, lon) float64 ...\n",
       "    u-component_of_wind_potential_vorticity_surface                             (time, potential_vorticity_surface, lat, lon) float64 ...\n",
       "    v-component_of_wind_potential_vorticity_surface                             (time, potential_vorticity_surface, lat, lon) float64 ...\n",
       "    Geopotential_height_potential_vorticity_surface                             (time, potential_vorticity_surface, lat, lon) float64 ...\n",
       "Attributes:\n",
       "    Originating_or_generating_Center: US National Weather Service, National Centres for Environmental Prediction (NCEP)\n",
       "    Originating_or_generating_Subcenter: 0\n",
       "    GRIB_table_version: 2,1\n",
       "    Type_of_generating_process: Forecast\n",
       "    Analysis_or_forecast_generating_process_identifier_defined_by_originating_centre: Analysis from GFS (Global Forecast System)\n",
       "    file_format: GRIB-2\n",
       "    Conventions: CF-1.6\n",
       "    history: Read using CDM IOSP GribCollection v3\n",
       "    featureType: GRID\n",
       "    _CoordSysBuilder: ucar.nc2.dataset.conv.CF1Convention"
      ]
     },
     "execution_count": 24,
     "metadata": {},
     "output_type": "execute_result"
    }
   ],
   "source": [
    "ds"
   ]
  },
  {
   "cell_type": "code",
   "execution_count": 25,
   "metadata": {
    "collapsed": false
   },
   "outputs": [],
   "source": [
    "# select lat,lon region of interest\n",
    "# note: slice(20.5,55.0) fails\n",
    "dsloc = ds.sel(lon=slice(230.5,300.0),lat=slice(55.0,20.5))"
   ]
  },
  {
   "cell_type": "code",
   "execution_count": 26,
   "metadata": {
    "collapsed": false
   },
   "outputs": [],
   "source": [
    "# select closest data to time of interest\n",
    "#date = datetime.datetime(2015,7,15,3,0,0)\n",
    "date = datetime.datetime.now()\n",
    "ds_snapshot = dsloc.sel(time=date,time1=date,time2=date,method='nearest')"
   ]
  },
  {
   "cell_type": "code",
   "execution_count": 27,
   "metadata": {
    "collapsed": false
   },
   "outputs": [
    {
     "data": {
      "text/plain": [
       "Data variables:\n",
       "    LatLon_Projection                                                           int32 ...\n",
       "    time2_bounds                                                                (time2, time2_bounds_1) datetime64[ns] ...\n",
       "    depth_below_surface_layer_bounds                                            (depth_below_surface_layer, depth_below_surface_layer_bounds_1) float32 ...\n",
       "    height_above_ground_layer_bounds                                            (height_above_ground_layer, height_above_ground_layer_bounds_1) float32 ...\n",
       "    pressure_difference_layer_bounds                                            (pressure_difference_layer, pressure_difference_layer_bounds_1) float32 ...\n",
       "    height_above_ground_layer1_bounds                                           (height_above_ground_layer1, height_above_ground_layer1_bounds_1) float32 ...\n",
       "    pressure_difference_layer1_bounds                                           (pressure_difference_layer1, pressure_difference_layer1_bounds_1) float32 ...\n",
       "    sigma_layer_bounds                                                          (sigma_layer, sigma_layer_bounds_1) float32 ...\n",
       "    pressure_difference_layer2_bounds                                           (pressure_difference_layer2, pressure_difference_layer2_bounds_1) float32 ...\n",
       "    Total_ozone_entire_atmosphere_single_layer                                  (time, lat, lon) float64 ...\n",
       "    Ozone_Mixing_Ratio_isobaric                                                 (time, isobaric, lat, lon) float64 ...\n",
       "    Momentum_flux_u-component_surface_Mixed_intervals_Average                   (time2, lat, lon) float64 ...\n",
       "    Momentum_flux_v-component_surface_Mixed_intervals_Average                   (time2, lat, lon) float64 ...\n",
       "    Surface_Lifted_Index_surface                                                (time, lat, lon) float64 ...\n",
       "    Downward_Short-Wave_Radiation_Flux_surface_Mixed_intervals_Average          (time2, lat, lon) float64 ...\n",
       "    Downward_Long-Wave_Radp_Flux_surface_Mixed_intervals_Average                (time2, lat, lon) float64 ...\n",
       "    Pressure_middle_cloud_bottom_Mixed_intervals_Average                        (time2, lat, lon) float64 ...\n",
       "    Pressure_middle_cloud_top_Mixed_intervals_Average                           (time2, lat, lon) float64 ...\n",
       "    Pressure_convective_cloud_bottom                                            (time1, lat, lon) float64 ...\n",
       "    Pressure_convective_cloud_top                                               (time1, lat, lon) float64 ...\n",
       "    Pressure_low_cloud_bottom_Mixed_intervals_Average                           (time2, lat, lon) float64 ...\n",
       "    Pressure_low_cloud_top_Mixed_intervals_Average                              (time2, lat, lon) float64 ...\n",
       "    Ventilation_Rate_planetary_boundary                                         (time, lat, lon) float64 ...\n",
       "    Pressure_high_cloud_top_Mixed_intervals_Average                             (time2, lat, lon) float64 ...\n",
       "    Vertical_Speed_Shear_potential_vorticity_surface                            (time, potential_vorticity_surface, lat, lon) float64 ...\n",
       "    Pressure_high_cloud_bottom_Mixed_intervals_Average                          (time2, lat, lon) float64 ...\n",
       "    MSLP_Eta_model_reduction_msl                                                (time, lat, lon) float64 ...\n",
       "    Vertical_Speed_Shear_tropopause                                             (time, lat, lon) float64 ...\n",
       "    Wind_speed_gust_surface                                                     (time, lat, lon) float64 ...\n",
       "    Pressure_of_level_from_which_parcel_was_lifted_pressure_difference_layer    (time, pressure_difference_layer1, lat, lon) float64 ...\n",
       "    Temperature_middle_cloud_top_Mixed_intervals_Average                        (time2, lat, lon) float64 ...\n",
       "    Temperature_high_cloud_top_Mixed_intervals_Average                          (time2, lat, lon) float64 ...\n",
       "    Temperature_low_cloud_top_Mixed_intervals_Average                           (time2, lat, lon) float64 ...\n",
       "    Categorical_Rain_surface_Mixed_intervals_Average                            (time2, lat, lon) float64 ...\n",
       "    Potential_Evaporation_Rate_surface                                          (time1, lat, lon) float64 ...\n",
       "    Volumetric_Soil_Moisture_Content_depth_below_surface_layer                  (time, depth_below_surface_layer, lat, lon) float64 ...\n",
       "    Ice_cover_surface                                                           (time, lat, lon) float64 ...\n",
       "    Land_cover_0__sea_1__land_surface                                           (time, lat, lon) float64 ...\n",
       "    Pressure_surface                                                            (time, lat, lon) float64 ...\n",
       "    Specific_humidity_pressure_difference_layer                                 (time, pressure_difference_layer, lat, lon) float64 ...\n",
       "    Temperature_surface                                                         (time, lat, lon) float64 ...\n",
       "    Temperature_pressure_difference_layer                                       (time, pressure_difference_layer, lat, lon) float64 ...\n",
       "    Albedo_surface_Mixed_intervals_Average                                      (time2, lat, lon) float64 ...\n",
       "    Relative_humidity_sigma_layer                                               (time, sigma_layer, lat, lon) float64 ...\n",
       "    Relative_humidity_pressure_difference_layer                                 (time, pressure_difference_layer, lat, lon) float64 ...\n",
       "    Haines_Index_surface                                                        (time, lat, lon) float64 ...\n",
       "    Soil_temperature_depth_below_surface_layer                                  (time, depth_below_surface_layer, lat, lon) float64 ...\n",
       "    u-component_of_wind_pressure_difference_layer                               (time, pressure_difference_layer, lat, lon) float64 ...\n",
       "    v-component_of_wind_pressure_difference_layer                               (time, pressure_difference_layer, lat, lon) float64 ...\n",
       "    Geopotential_height_surface                                                 (time, lat, lon) float64 ...\n",
       "    Water_runoff_surface_Mixed_intervals_Accumulation                           (time2, lat, lon) float64 ...\n",
       "    Convective_available_potential_energy_surface                               (time, lat, lon) float64 ...\n",
       "    Convective_available_potential_energy_pressure_difference_layer             (time, pressure_difference_layer2, lat, lon) float64 ...\n",
       "    Convective_inhibition_pressure_difference_layer                             (time, pressure_difference_layer2, lat, lon) float64 ...\n",
       "    Convective_inhibition_surface                                               (time, lat, lon) float64 ...\n",
       "    Precipitation_rate_surface_Mixed_intervals_Average                          (time2, lat, lon) float64 ...\n",
       "    Storm_relative_helicity_height_above_ground_layer                           (time, height_above_ground_layer, lat, lon) float64 ...\n",
       "    Total_precipitation_surface_Mixed_intervals_Accumulation                    (time2, lat, lon) float64 ...\n",
       "    Convective_precipitation_surface_Mixed_intervals_Accumulation               (time2, lat, lon) float64 ...\n",
       "    Latent_heat_net_flux_surface_Mixed_intervals_Average                        (time2, lat, lon) float64 ...\n",
       "    Sensible_heat_net_flux_surface_Mixed_intervals_Average                      (time2, lat, lon) float64 ...\n",
       "    Snow_depth_surface                                                          (time, lat, lon) float64 ...\n",
       "    Water_equivalent_of_accumulated_snow_depth_surface                          (time, lat, lon) float64 ...\n",
       "    Total_cloud_cover_high_cloud_Mixed_intervals_Average                        (time2, lat, lon) float64 ...\n",
       "    Total_cloud_cover_convective_cloud                                          (time1, lat, lon) float64 ...\n",
       "    Total_cloud_cover_middle_cloud_Mixed_intervals_Average                      (time2, lat, lon) float64 ...\n",
       "    Total_cloud_cover_boundary_layer_cloud_Mixed_intervals_Average              (time2, lat, lon) float64 ...\n",
       "    Total_cloud_cover_low_cloud_Mixed_intervals_Average                         (time2, lat, lon) float64 ...\n",
       "    Cloud_Work_Function_entire_atmosphere_single_layer_Mixed_intervals_Average  (time2, lat, lon) float64 ...\n",
       "    Sunshine_Duration_surface                                                   (time, lat, lon) float64 ...\n",
       "    Best_4_layer_Lifted_Index_surface                                           (time, lat, lon) float64 ...\n",
       "    Upward_Short-Wave_Radiation_Flux_atmosphere_top_Mixed_intervals_Average     (time2, lat, lon) float64 ...\n",
       "    Upward_Short-Wave_Radiation_Flux_surface_Mixed_intervals_Average            (time2, lat, lon) float64 ...\n",
       "    Upward_Long-Wave_Radp_Flux_atmosphere_top_Mixed_intervals_Average           (time2, lat, lon) float64 ...\n",
       "    Upward_Long-Wave_Radp_Flux_surface_Mixed_intervals_Average                  (time2, lat, lon) float64 ...\n",
       "    5-Wave_Geopotential_Height_isobaric                                         (time, isobaric1, lat, lon) float64 ...\n",
       "    Relative_humidity_entire_atmosphere_single_layer                            (time, lat, lon) float64 ...\n",
       "    Relative_humidity_highest_tropospheric_freezing                             (time, lat, lon) float64 ...\n",
       "    Categorical_Freezing_Rain_surface_Mixed_intervals_Average                   (time2, lat, lon) float64 ...\n",
       "    Ground_Heat_Flux_surface_Mixed_intervals_Average                            (time2, lat, lon) float64 ...\n",
       "    Wilting_Point_surface                                                       (time, lat, lon) float64 ...\n",
       "    Per_cent_frozen_precipitation_surface                                       (time, lat, lon) float64 ...\n",
       "    Temperature_isobaric                                                        (time, isobaric3, lat, lon) float64 ...\n",
       "    Relative_humidity_isobaric                                                  (time, isobaric3, lat, lon) float64 ...\n",
       "    Relative_humidity_zeroDegC_isotherm                                         (time, lat, lon) float64 ...\n",
       "    u-component_of_wind_isobaric                                                (time, isobaric3, lat, lon) float64 ...\n",
       "    v-component_of_wind_isobaric                                                (time, isobaric3, lat, lon) float64 ...\n",
       "    Geopotential_height_isobaric                                                (time, isobaric3, lat, lon) float64 ...\n",
       "    Geopotential_height_zeroDegC_isotherm                                       (time, lat, lon) float64 ...\n",
       "    U-Component_Storm_Motion_height_above_ground_layer                          (time, height_above_ground_layer1, lat, lon) float64 ...\n",
       "    Zonal_Flux_of_Gravity_Wave_Stress_surface_Mixed_intervals_Average           (time2, lat, lon) float64 ...\n",
       "    u-component_of_wind_planetary_boundary                                      (time, lat, lon) float64 ...\n",
       "    Categorical_Ice_Pellets_surface_Mixed_intervals_Average                     (time2, lat, lon) float64 ...\n",
       "    Vertical_velocity_pressure_isobaric                                         (time, isobaric2, lat, lon) float64 ...\n",
       "    Absolute_vorticity_isobaric                                                 (time, isobaric3, lat, lon) float64 ...\n",
       "    Pressure_reduced_to_MSL_msl                                                 (time, lat, lon) float64 ...\n",
       "    Cloud_mixing_ratio_isobaric                                                 (time, isobaric2, lat, lon) float64 ...\n",
       "    Pressure_maximum_wind                                                       (time, lat, lon) float64 ...\n",
       "    Temperature_altitude_above_msl                                              (time, altitude_above_msl, lat, lon) float64 ...\n",
       "    Temperature_maximum_wind                                                    (time, lat, lon) float64 ...\n",
       "    u-component_of_wind_altitude_above_msl                                      (time, altitude_above_msl, lat, lon) float64 ...\n",
       "    u-component_of_wind_maximum_wind                                            (time, lat, lon) float64 ...\n",
       "    ICAO_Standard_Atmosphere_Reference_Height_maximum_wind                      (time, lat, lon) float64 ...\n",
       "    v-component_of_wind_maximum_wind                                            (time, lat, lon) float64 ...\n",
       "    v-component_of_wind_altitude_above_msl                                      (time, altitude_above_msl, lat, lon) float64 ...\n",
       "    Apparent_temperature_height_above_ground                                    (time, height_above_ground, lat, lon) float64 ...\n",
       "    Geopotential_height_maximum_wind                                            (time, lat, lon) float64 ...\n",
       "    V-Component_Storm_Motion_height_above_ground_layer                          (time, height_above_ground_layer1, lat, lon) float64 ...\n",
       "    Meridional_Flux_of_Gravity_Wave_Stress_surface_Mixed_intervals_Average      (time2, lat, lon) float64 ...\n",
       "    Field_Capacity_surface                                                      (time, lat, lon) float64 ...\n",
       "    v-component_of_wind_planetary_boundary                                      (time, lat, lon) float64 ...\n",
       "    Precipitable_water_entire_atmosphere_single_layer                           (time, lat, lon) float64 ...\n",
       "    Categorical_Snow_surface_Mixed_intervals_Average                            (time2, lat, lon) float64 ...\n",
       "    Pressure_height_above_ground                                                (time, height_above_ground2, lat, lon) float64 ...\n",
       "    Pressure_tropopause                                                         (time, lat, lon) float64 ...\n",
       "    Specific_humidity_height_above_ground                                       (time, height_above_ground1, lat, lon) float64 ...\n",
       "    Temperature_height_above_ground                                             (time, height_above_ground4, lat, lon) float64 ...\n",
       "    Temperature_tropopause                                                      (time, lat, lon) float64 ...\n",
       "    Relative_humidity_height_above_ground                                       (time, height_above_ground, lat, lon) float64 ...\n",
       "    u-component_of_wind_height_above_ground                                     (time, height_above_ground3, lat, lon) float64 ...\n",
       "    u-component_of_wind_tropopause                                              (time, lat, lon) float64 ...\n",
       "    ICAO_Standard_Atmosphere_Reference_Height_tropopause                        (time, lat, lon) float64 ...\n",
       "    v-component_of_wind_height_above_ground                                     (time, height_above_ground3, lat, lon) float64 ...\n",
       "    v-component_of_wind_tropopause                                              (time, lat, lon) float64 ...\n",
       "    Maximum_temperature_height_above_ground_Mixed_intervals_Maximum             (time2, height_above_ground, lat, lon) float64 ...\n",
       "    Geopotential_height_tropopause                                              (time, lat, lon) float64 ...\n",
       "    Minimum_temperature_height_above_ground_Mixed_intervals_Minimum             (time2, height_above_ground, lat, lon) float64 ...\n",
       "    Dewpoint_temperature_height_above_ground                                    (time, height_above_ground, lat, lon) float64 ...\n",
       "    Temperature_sigma                                                           (time, sigma, lat, lon) float64 ...\n",
       "    Relative_humidity_sigma                                                     (time, sigma, lat, lon) float64 ...\n",
       "    Potential_temperature_sigma                                                 (time, sigma, lat, lon) float64 ...\n",
       "    u-component_of_wind_sigma                                                   (time, sigma, lat, lon) float64 ...\n",
       "    v-component_of_wind_sigma                                                   (time, sigma, lat, lon) float64 ...\n",
       "    Planetary_Boundary_Layer_Height_surface                                     (time, lat, lon) float64 ...\n",
       "    Convective_Precipitation_Rate_surface_Mixed_intervals_Average               (time2, lat, lon) float64 ...\n",
       "    Vertical_velocity_pressure_sigma                                            (time, sigma, lat, lon) float64 ...\n",
       "    Total_cloud_cover_entire_atmosphere_Mixed_intervals_Average                 (time2, lat, lon) float64 ...\n",
       "    Geopotential_height_highest_tropospheric_freezing                           (time, lat, lon) float64 ...\n",
       "    Cloud_water_entire_atmosphere_single_layer                                  (time, lat, lon) float64 ...\n",
       "    Pressure_potential_vorticity_surface                                        (time, potential_vorticity_surface, lat, lon) float64 ...\n",
       "    Temperature_potential_vorticity_surface                                     (time, potential_vorticity_surface, lat, lon) float64 ...\n",
       "    u-component_of_wind_potential_vorticity_surface                             (time, potential_vorticity_surface, lat, lon) float64 ...\n",
       "    v-component_of_wind_potential_vorticity_surface                             (time, potential_vorticity_surface, lat, lon) float64 ...\n",
       "    Geopotential_height_potential_vorticity_surface                             (time, potential_vorticity_surface, lat, lon) float64 ..."
      ]
     },
     "execution_count": 27,
     "metadata": {},
     "output_type": "execute_result"
    }
   ],
   "source": [
    "ds.data_vars"
   ]
  },
  {
   "cell_type": "code",
   "execution_count": 28,
   "metadata": {
    "collapsed": false
   },
   "outputs": [
    {
     "data": {
      "text/plain": [
       "Coordinates:\n",
       "  * lat                                  (lat) float32 90.0 89.5 89.0 88.5 ...\n",
       "  * lon                                  (lon) float32 0.0 0.5 1.0 1.5 2.0 ...\n",
       "  * time                                 (time) datetime64[ns] 2015-08-21 ...\n",
       "    reftime                              (time) datetime64[ns] ...\n",
       "  * time1                                (time1) datetime64[ns] 2015-08-21T03:00:00 ...\n",
       "    reftime1                             (time1) datetime64[ns] ...\n",
       "  * time2                                (time2) datetime64[ns] 2015-08-21T03:00:00 ...\n",
       "    reftime2                             (time2) datetime64[ns] ...\n",
       "  * depth_below_surface_layer            (depth_below_surface_layer) float32 0.05 ...\n",
       "  * isobaric                             (isobaric) float32 1000.0 2000.0 ...\n",
       "  * height_above_ground_layer            (height_above_ground_layer) float32 1500.0 ...\n",
       "  * height_above_ground                  (height_above_ground) float32 2.0\n",
       "  * potential_vorticity_surface          (potential_vorticity_surface) float32 -2e-06 ...\n",
       "  * pressure_difference_layer            (pressure_difference_layer) float32 1500.0 ...\n",
       "  * isobaric1                            (isobaric1) float32 50000.0\n",
       "  * height_above_ground1                 (height_above_ground1) float32 2.0 80.0\n",
       "  * height_above_ground2                 (height_above_ground2) float32 80.0\n",
       "  * isobaric2                            (isobaric2) float32 10000.0 15000.0 ...\n",
       "  * sigma                                (sigma) float32 0.995\n",
       "  * altitude_above_msl                   (altitude_above_msl) float32 1829.0 ...\n",
       "  * height_above_ground3                 (height_above_ground3) float32 10.0 ...\n",
       "  * height_above_ground_layer1           (height_above_ground_layer1) float32 3000.0 ...\n",
       "  * pressure_difference_layer1           (pressure_difference_layer1) float32 12750.0 ...\n",
       "  * isobaric3                            (isobaric3) float32 1000.0 2000.0 ...\n",
       "  * sigma_layer                          (sigma_layer) float32 0.58 0.665 ...\n",
       "  * pressure_difference_layer2           (pressure_difference_layer2) float32 9000.0 ...\n",
       "  * height_above_ground4                 (height_above_ground4) float32 2.0 ...\n",
       "  * depth_below_surface_layer_bounds_1   (depth_below_surface_layer_bounds_1) int64 0 ...\n",
       "  * height_above_ground_layer1_bounds_1  (height_above_ground_layer1_bounds_1) int64 0 ...\n",
       "  * height_above_ground_layer_bounds_1   (height_above_ground_layer_bounds_1) int64 0 ...\n",
       "  * pressure_difference_layer1_bounds_1  (pressure_difference_layer1_bounds_1) int64 0 ...\n",
       "  * pressure_difference_layer2_bounds_1  (pressure_difference_layer2_bounds_1) int64 0 ...\n",
       "  * pressure_difference_layer_bounds_1   (pressure_difference_layer_bounds_1) int64 0 ...\n",
       "  * sigma_layer_bounds_1                 (sigma_layer_bounds_1) int64 0 1\n",
       "  * time2_bounds_1                       (time2_bounds_1) int64 0 1"
      ]
     },
     "execution_count": 28,
     "metadata": {},
     "output_type": "execute_result"
    }
   ],
   "source": [
    "ds.coords"
   ]
  },
  {
   "cell_type": "code",
   "execution_count": 29,
   "metadata": {
    "collapsed": false
   },
   "outputs": [
    {
     "data": {
      "text/plain": [
       "OrderedDict([(u'Originating_or_generating_Center', u'US National Weather Service, National Centres for Environmental Prediction (NCEP)'), (u'Originating_or_generating_Subcenter', u'0'), (u'GRIB_table_version', u'2,1'), (u'Type_of_generating_process', u'Forecast'), (u'Analysis_or_forecast_generating_process_identifier_defined_by_originating_centre', u'Analysis from GFS (Global Forecast System)'), (u'file_format', u'GRIB-2'), (u'Conventions', u'CF-1.6'), (u'history', u'Read using CDM IOSP GribCollection v3'), (u'featureType', u'GRID'), (u'_CoordSysBuilder', u'ucar.nc2.dataset.conv.CF1Convention')])"
      ]
     },
     "execution_count": 29,
     "metadata": {},
     "output_type": "execute_result"
    }
   ],
   "source": [
    "ds.attrs"
   ]
  },
  {
   "cell_type": "code",
   "execution_count": 30,
   "metadata": {
    "collapsed": false
   },
   "outputs": [],
   "source": [
    "t = ds_snapshot['Temperature_surface']"
   ]
  },
  {
   "cell_type": "code",
   "execution_count": 40,
   "metadata": {
    "collapsed": false
   },
   "outputs": [
    {
     "data": {
      "text/plain": [
       "numpy.datetime64('2015-09-04T05:00:00.000000000-0400')"
      ]
     },
     "execution_count": 40,
     "metadata": {},
     "output_type": "execute_result"
    }
   ],
   "source": [
    "t.time.values"
   ]
  },
  {
   "cell_type": "code",
   "execution_count": 32,
   "metadata": {
    "collapsed": false
   },
   "outputs": [
    {
     "data": {
      "image/png": "[encoded data removed]",
      "text/plain": [
       "<matplotlib.figure.Figure at 0x11569cf8>"
      ]
     },
     "metadata": {},
     "output_type": "display_data"
    }
   ],
   "source": [
    "plt.pcolormesh(t.lon.data,t.lat.data,t.data)\n",
    "plt.title(t.name+pd.Timestamp(t.time.values).strftime(': %Y-%m-%d  %H:%M:%S %Z %z'));"
   ]
  },
  {
   "cell_type": "code",
   "execution_count": 33,
   "metadata": {
    "collapsed": false
   },
   "outputs": [],
   "source": [
    "# time series closest to specified lon,lat location\n",
    "ds_series = ds.sel(lon=250.,lat=33.,method='nearest')"
   ]
  },
  {
   "cell_type": "code",
   "execution_count": 34,
   "metadata": {
    "collapsed": false
   },
   "outputs": [],
   "source": [
    "# Select temperature and convert to Pandas Series\n",
    "v_series = ds_series['Temperature_surface'].to_series()"
   ]
  },
  {
   "cell_type": "code",
   "execution_count": 35,
   "metadata": {
    "collapsed": false
   },
   "outputs": [
    {
     "data": {
      "image/png": "[encoded data removed]",
      "text/plain": [
       "<matplotlib.figure.Figure at 0x13135da0>"
      ]
     },
     "metadata": {},
     "output_type": "display_data"
    }
   ],
   "source": [
    "v_series.plot(title=v_series.name);"
   ]
  },
  {
   "cell_type": "code",
   "execution_count": 36,
   "metadata": {
    "collapsed": false
   },
   "outputs": [
    {
     "data": {
      "text/plain": [
       "<xray.Dataset>\n",
       "Dimensions:                                                                     (altitude_above_msl: 3, depth_below_surface_layer: 4, depth_below_surface_layer_bounds_1: 2, height_above_ground: 1, height_above_ground1: 2, height_above_ground2: 1, height_above_ground3: 3, height_above_ground4: 3, height_above_ground_layer: 1, height_above_ground_layer1: 1, height_above_ground_layer1_bounds_1: 2, height_above_ground_layer_bounds_1: 2, isobaric: 12, isobaric1: 1, isobaric2: 21, isobaric3: 26, lat: 70, lon: 140, potential_vorticity_surface: 2, pressure_difference_layer: 1, pressure_difference_layer1: 1, pressure_difference_layer1_bounds_1: 2, pressure_difference_layer2: 2, pressure_difference_layer2_bounds_1: 2, pressure_difference_layer_bounds_1: 2, sigma: 1, sigma_layer: 4, sigma_layer_bounds_1: 2, time2_bounds_1: 2)\n",
       "Coordinates:\n",
       "  * lat                                                                         (lat) float32 55.0 ...\n",
       "  * lon                                                                         (lon) float32 230.5 ...\n",
       "    time                                                                        datetime64[ns] 2015-09-04T09:00:00 ...\n",
       "    reftime                                                                     datetime64[ns] 2015-09-04T06:00:00 ...\n",
       "    time1                                                                       datetime64[ns] 2015-09-04T09:00:00 ...\n",
       "    reftime1                                                                    datetime64[ns] 2015-09-04T06:00:00 ...\n",
       "    time2                                                                       datetime64[ns] 2015-09-04T09:00:00 ...\n",
       "    reftime2                                                                    datetime64[ns] 2015-09-04T06:00:00 ...\n",
       "  * depth_below_surface_layer                                                   (depth_below_surface_layer) float32 0.05 ...\n",
       "  * isobaric                                                                    (isobaric) float32 1000.0 ...\n",
       "  * height_above_ground_layer                                                   (height_above_ground_layer) float32 1500.0 ...\n",
       "  * height_above_ground                                                         (height_above_ground) float32 2.0 ...\n",
       "  * potential_vorticity_surface                                                 (potential_vorticity_surface) float32 -2e-06 ...\n",
       "  * pressure_difference_layer                                                   (pressure_difference_layer) float32 1500.0 ...\n",
       "  * isobaric1                                                                   (isobaric1) float32 50000.0 ...\n",
       "  * height_above_ground1                                                        (height_above_ground1) float32 2.0 ...\n",
       "  * height_above_ground2                                                        (height_above_ground2) float32 80.0 ...\n",
       "  * isobaric2                                                                   (isobaric2) float32 10000.0 ...\n",
       "  * sigma                                                                       (sigma) float32 0.995 ...\n",
       "  * altitude_above_msl                                                          (altitude_above_msl) float32 1829.0 ...\n",
       "  * height_above_ground3                                                        (height_above_ground3) float32 10.0 ...\n",
       "  * height_above_ground_layer1                                                  (height_above_ground_layer1) float32 3000.0 ...\n",
       "  * pressure_difference_layer1                                                  (pressure_difference_layer1) float32 12750.0 ...\n",
       "  * isobaric3                                                                   (isobaric3) float32 1000.0 ...\n",
       "  * sigma_layer                                                                 (sigma_layer) float32 0.58 ...\n",
       "  * pressure_difference_layer2                                                  (pressure_difference_layer2) float32 9000.0 ...\n",
       "  * height_above_ground4                                                        (height_above_ground4) float32 2.0 ...\n",
       "  * depth_below_surface_layer_bounds_1                                          (depth_below_surface_layer_bounds_1) int32 0 ...\n",
       "  * height_above_ground_layer1_bounds_1                                         (height_above_ground_layer1_bounds_1) int32 0 ...\n",
       "  * height_above_ground_layer_bounds_1                                          (height_above_ground_layer_bounds_1) int32 0 ...\n",
       "  * pressure_difference_layer1_bounds_1                                         (pressure_difference_layer1_bounds_1) int32 0 ...\n",
       "  * pressure_difference_layer2_bounds_1                                         (pressure_difference_layer2_bounds_1) int32 0 ...\n",
       "  * pressure_difference_layer_bounds_1                                          (pressure_difference_layer_bounds_1) int32 0 ...\n",
       "  * sigma_layer_bounds_1                                                        (sigma_layer_bounds_1) int32 0 ...\n",
       "  * time2_bounds_1                                                              (time2_bounds_1) int32 0 ...\n",
       "Data variables:\n",
       "    LatLon_Projection                                                           int32 0 ...\n",
       "    time2_bounds                                                                (time2_bounds_1) datetime64[ns] 2015-09-04T06:00:00 ...\n",
       "    depth_below_surface_layer_bounds                                            (depth_below_surface_layer, depth_below_surface_layer_bounds_1) float32 0.0 ...\n",
       "    height_above_ground_layer_bounds                                            (height_above_ground_layer, height_above_ground_layer_bounds_1) float32 3000.0 ...\n",
       "    pressure_difference_layer_bounds                                            (pressure_difference_layer, pressure_difference_layer_bounds_1) float32 3000.0 ...\n",
       "    height_above_ground_layer1_bounds                                           (height_above_ground_layer1, height_above_ground_layer1_bounds_1) float32 6000.0 ...\n",
       "    pressure_difference_layer1_bounds                                           (pressure_difference_layer1, pressure_difference_layer1_bounds_1) float32 25500.0 ...\n",
       "    sigma_layer_bounds                                                          (sigma_layer, sigma_layer_bounds_1) float32 0.44 ...\n",
       "    pressure_difference_layer2_bounds                                           (pressure_difference_layer2, pressure_difference_layer2_bounds_1) float32 18000.0 ...\n",
       "    Total_ozone_entire_atmosphere_single_layer                                  (lat, lon) float64 339.2 ...\n",
       "    Ozone_Mixing_Ratio_isobaric                                                 (isobaric, lat, lon) float64 1.112e-05 ...\n",
       "    Momentum_flux_u-component_surface_Mixed_intervals_Average                   (lat, lon) float64 0.03 ...\n",
       "    Momentum_flux_v-component_surface_Mixed_intervals_Average                   (lat, lon) float64 -0.003 ...\n",
       "    Surface_Lifted_Index_surface                                                (lat, lon) float64 10.2 ...\n",
       "    Downward_Short-Wave_Radiation_Flux_surface_Mixed_intervals_Average          (lat, lon) float64 0.0 ...\n",
       "    Downward_Long-Wave_Radp_Flux_surface_Mixed_intervals_Average                (lat, lon) float64 252.0 ...\n",
       "    Pressure_middle_cloud_bottom_Mixed_intervals_Average                        (lat, lon) float64 nan ...\n",
       "    Pressure_middle_cloud_top_Mixed_intervals_Average                           (lat, lon) float64 nan ...\n",
       "    Pressure_convective_cloud_bottom                                            (lat, lon) float64 nan ...\n",
       "    Pressure_convective_cloud_top                                               (lat, lon) float64 nan ...\n",
       "    Pressure_low_cloud_bottom_Mixed_intervals_Average                           (lat, lon) float64 nan ...\n",
       "    Pressure_low_cloud_top_Mixed_intervals_Average                              (lat, lon) float64 nan ...\n",
       "    Ventilation_Rate_planetary_boundary                                         (lat, lon) float64 0.0 ...\n",
       "    Pressure_high_cloud_top_Mixed_intervals_Average                             (lat, lon) float64 nan ...\n",
       "    Vertical_Speed_Shear_potential_vorticity_surface                            (potential_vorticity_surface, lat, lon) float64 nan ...\n",
       "    Pressure_high_cloud_bottom_Mixed_intervals_Average                          (lat, lon) float64 nan ...\n",
       "    MSLP_Eta_model_reduction_msl                                                (lat, lon) float64 1.02e+05 ...\n",
       "    Vertical_Speed_Shear_tropopause                                             (lat, lon) float64 -0.0031 ...\n",
       "    Wind_speed_gust_surface                                                     (lat, lon) float64 2.5 ...\n",
       "    Pressure_of_level_from_which_parcel_was_lifted_pressure_difference_layer    (pressure_difference_layer1, lat, lon) float64 9.059e+04 ...\n",
       "    Temperature_middle_cloud_top_Mixed_intervals_Average                        (lat, lon) float64 nan ...\n",
       "    Temperature_high_cloud_top_Mixed_intervals_Average                          (lat, lon) float64 nan ...\n",
       "    Temperature_low_cloud_top_Mixed_intervals_Average                           (lat, lon) float64 nan ...\n",
       "    Categorical_Rain_surface_Mixed_intervals_Average                            (lat, lon) float64 0.0 ...\n",
       "    Potential_Evaporation_Rate_surface                                          (lat, lon) float64 14.0 ...\n",
       "    Volumetric_Soil_Moisture_Content_depth_below_surface_layer                  (depth_below_surface_layer, lat, lon) float64 0.282 ...\n",
       "    Ice_cover_surface                                                           (lat, lon) float64 0.0 ...\n",
       "    Land_cover_0__sea_1__land_surface                                           (lat, lon) float64 1.0 ...\n",
       "    Pressure_surface                                                            (lat, lon) float64 9.431e+04 ...\n",
       "    Specific_humidity_pressure_difference_layer                                 (pressure_difference_layer, lat, lon) float64 0.004117 ...\n",
       "    Temperature_surface                                                         (lat, lon) float64 276.4 ...\n",
       "    Temperature_pressure_difference_layer                                       (pressure_difference_layer, lat, lon) float64 281.2 ...\n",
       "    Albedo_surface_Mixed_intervals_Average                                      (lat, lon) float64 0.0 ...\n",
       "    Relative_humidity_sigma_layer                                               (sigma_layer, lat, lon) float64 36.0 ...\n",
       "    Relative_humidity_pressure_difference_layer                                 (pressure_difference_layer, lat, lon) float64 57.0 ...\n",
       "    Haines_Index_surface                                                        (lat, lon) float64 5.0 ...\n",
       "    Soil_temperature_depth_below_surface_layer                                  (depth_below_surface_layer, lat, lon) float64 280.6 ...\n",
       "    u-component_of_wind_pressure_difference_layer                               (pressure_difference_layer, lat, lon) float64 -2.75 ...\n",
       "    v-component_of_wind_pressure_difference_layer                               (pressure_difference_layer, lat, lon) float64 0.0 ...\n",
       "    Geopotential_height_surface                                                 (lat, lon) float64 656.2 ...\n",
       "    Water_runoff_surface_Mixed_intervals_Accumulation                           (lat, lon) float64 0.45 ...\n",
       "    Convective_available_potential_energy_surface                               (lat, lon) float64 0.0 ...\n",
       "    Convective_available_potential_energy_pressure_difference_layer             (pressure_difference_layer2, lat, lon) float64 0.0 ...\n",
       "    Convective_inhibition_pressure_difference_layer                             (pressure_difference_layer2, lat, lon) float64 0.0 ...\n",
       "    Convective_inhibition_surface                                               (lat, lon) float64 0.0 ...\n",
       "    Precipitation_rate_surface_Mixed_intervals_Average                          (lat, lon) float64 0.0 ...\n",
       "    Storm_relative_helicity_height_above_ground_layer                           (height_above_ground_layer, lat, lon) float64 50.0 ...\n",
       "    Total_precipitation_surface_Mixed_intervals_Accumulation                    (lat, lon) float64 0.0 ...\n",
       "    Convective_precipitation_surface_Mixed_intervals_Accumulation               (lat, lon) float64 0.0 ...\n",
       "    Latent_heat_net_flux_surface_Mixed_intervals_Average                        (lat, lon) float64 2.0 ...\n",
       "    Sensible_heat_net_flux_surface_Mixed_intervals_Average                      (lat, lon) float64 -41.0 ...\n",
       "    Snow_depth_surface                                                          (lat, lon) float64 0.0 ...\n",
       "    Water_equivalent_of_accumulated_snow_depth_surface                          (lat, lon) float64 0.0 ...\n",
       "    Total_cloud_cover_high_cloud_Mixed_intervals_Average                        (lat, lon) float64 0.0 ...\n",
       "    Total_cloud_cover_convective_cloud                                          (lat, lon) float64 0.0 ...\n",
       "    Total_cloud_cover_middle_cloud_Mixed_intervals_Average                      (lat, lon) float64 0.0 ...\n",
       "    Total_cloud_cover_boundary_layer_cloud_Mixed_intervals_Average              (lat, lon) float64 0.0 ...\n",
       "    Total_cloud_cover_low_cloud_Mixed_intervals_Average                         (lat, lon) float64 0.0 ...\n",
       "    Cloud_Work_Function_entire_atmosphere_single_layer_Mixed_intervals_Average  (lat, lon) float64 0.0 ...\n",
       "    Sunshine_Duration_surface                                                   (lat, lon) float64 0.0 ...\n",
       "    Best_4_layer_Lifted_Index_surface                                           (lat, lon) float64 8.2 ...\n",
       "    Upward_Short-Wave_Radiation_Flux_atmosphere_top_Mixed_intervals_Average     (lat, lon) float64 0.0 ...\n",
       "    Upward_Short-Wave_Radiation_Flux_surface_Mixed_intervals_Average            (lat, lon) float64 0.0 ...\n",
       "    Upward_Long-Wave_Radp_Flux_atmosphere_top_Mixed_intervals_Average           (lat, lon) float64 244.0 ...\n",
       "    Upward_Long-Wave_Radp_Flux_surface_Mixed_intervals_Average                  (lat, lon) float64 329.0 ...\n",
       "    5-Wave_Geopotential_Height_isobaric                                         (isobaric1, lat, lon) float64 5.654e+03 ...\n",
       "    Relative_humidity_entire_atmosphere_single_layer                            (lat, lon) float64 22.0 ...\n",
       "    Relative_humidity_highest_tropospheric_freezing                             (lat, lon) float64 60.0 ...\n",
       "    Categorical_Freezing_Rain_surface_Mixed_intervals_Average                   (lat, lon) float64 0.0 ...\n",
       "    Ground_Heat_Flux_surface_Mixed_intervals_Average                            (lat, lon) float64 38.0 ...\n",
       "    Wilting_Point_surface                                                       (lat, lon) float64 0.0469 ...\n",
       "    Per_cent_frozen_precipitation_surface                                       (lat, lon) float64 0.0 ...\n",
       "    Temperature_isobaric                                                        (isobaric3, lat, lon) float64 230.6 ...\n",
       "    Relative_humidity_isobaric                                                  (isobaric3, lat, lon) float64 0.09 ...\n",
       "    Relative_humidity_zeroDegC_isotherm                                         (lat, lon) float64 60.0 ...\n",
       "    u-component_of_wind_isobaric                                                (isobaric3, lat, lon) float64 -3.2 ...\n",
       "    v-component_of_wind_isobaric                                                (isobaric3, lat, lon) float64 -2.9 ...\n",
       "    Geopotential_height_isobaric                                                (isobaric3, lat, lon) float64 3.148e+04 ...\n",
       "    Geopotential_height_zeroDegC_isotherm                                       (lat, lon) float64 1.945e+03 ...\n",
       "    U-Component_Storm_Motion_height_above_ground_layer                          (height_above_ground_layer1, lat, lon) float64 -10.32 ...\n",
       "    Zonal_Flux_of_Gravity_Wave_Stress_surface_Mixed_intervals_Average           (lat, lon) float64 -0.467 ...\n",
       "    u-component_of_wind_planetary_boundary                                      (lat, lon) float64 -2.5 ...\n",
       "    Categorical_Ice_Pellets_surface_Mixed_intervals_Average                     (lat, lon) float64 0.0 ...\n",
       "    Vertical_velocity_pressure_isobaric                                         (isobaric2, lat, lon) float64 -0.004584 ...\n",
       "    Absolute_vorticity_isobaric                                                 (isobaric3, lat, lon) float64 0.0001168 ...\n",
       "    Pressure_reduced_to_MSL_msl                                                 (lat, lon) float64 1.02e+05 ...\n",
       "    Cloud_mixing_ratio_isobaric                                                 (isobaric2, lat, lon) float64 0.0 ...\n",
       "    Pressure_maximum_wind                                                       (lat, lon) float64 2.679e+04 ...\n",
       "    Temperature_altitude_above_msl                                              (altitude_above_msl, lat, lon) float64 274.0 ...\n",
       "    Temperature_maximum_wind                                                    (lat, lon) float64 224.2 ...\n",
       "    u-component_of_wind_altitude_above_msl                                      (altitude_above_msl, lat, lon) float64 -2.76 ...\n",
       "    u-component_of_wind_maximum_wind                                            (lat, lon) float64 4.4 ...\n",
       "    ICAO_Standard_Atmosphere_Reference_Height_maximum_wind                      (lat, lon) float64 9.913e+03 ...\n",
       "    v-component_of_wind_maximum_wind                                            (lat, lon) float64 -42.7 ...\n",
       "    v-component_of_wind_altitude_above_msl                                      (altitude_above_msl, lat, lon) float64 -1.14 ...\n",
       "    Apparent_temperature_height_above_ground                                    (height_above_ground, lat, lon) float64 275.6 ...\n",
       "    Geopotential_height_maximum_wind                                            (lat, lon) float64 9.957e+03 ...\n",
       "    V-Component_Storm_Motion_height_above_ground_layer                          (height_above_ground_layer1, lat, lon) float64 -3.56 ...\n",
       "    Meridional_Flux_of_Gravity_Wave_Stress_surface_Mixed_intervals_Average      (lat, lon) float64 -1.329 ...\n",
       "    Field_Capacity_surface                                                      (lat, lon) float64 0.2821 ...\n",
       "    v-component_of_wind_planetary_boundary                                      (lat, lon) float64 0.4 ...\n",
       "    Precipitable_water_entire_atmosphere_single_layer                           (lat, lon) float64 9.5 ...\n",
       "    Categorical_Snow_surface_Mixed_intervals_Average                            (lat, lon) float64 0.0 ...\n",
       "    Pressure_height_above_ground                                                (height_above_ground2, lat, lon) float64 9.34e+04 ...\n",
       "    Pressure_tropopause                                                         (lat, lon) float64 2.422e+04 ...\n",
       "    Specific_humidity_height_above_ground                                       (height_above_ground1, lat, lon) float64 0.00428 ...\n",
       "    Temperature_height_above_ground                                             (height_above_ground4, lat, lon) float64 277.3 ...\n",
       "    Temperature_tropopause                                                      (lat, lon) float64 221.8 ...\n",
       "    Relative_humidity_height_above_ground                                       (height_above_ground, lat, lon) float64 78.9 ...\n",
       "    u-component_of_wind_height_above_ground                                     (height_above_ground3, lat, lon) float64 -1.91 ...\n",
       "    u-component_of_wind_tropopause                                              (lat, lon) float64 5.2 ...\n",
       "    ICAO_Standard_Atmosphere_Reference_Height_tropopause                        (lat, lon) float64 1.057e+04 ...\n",
       "    v-component_of_wind_height_above_ground                                     (height_above_ground3, lat, lon) float64 0.3 ...\n",
       "    v-component_of_wind_tropopause                                              (lat, lon) float64 -40.7 ...\n",
       "    Maximum_temperature_height_above_ground_Mixed_intervals_Maximum             (height_above_ground, lat, lon) float64 278.0 ...\n",
       "    Geopotential_height_tropopause                                              (lat, lon) float64 1.062e+04 ...\n",
       "    Minimum_temperature_height_above_ground_Mixed_intervals_Minimum             (height_above_ground, lat, lon) float64 277.2 ...\n",
       "    Dewpoint_temperature_height_above_ground                                    (height_above_ground, lat, lon) float64 274.0 ...\n",
       "    Temperature_sigma                                                           (sigma, lat, lon) float64 280.6 ...\n",
       "    Relative_humidity_sigma                                                     (sigma, lat, lon) float64 61.0 ...\n",
       "    Potential_temperature_sigma                                                 (sigma, lat, lon) float64 285.7 ...\n",
       "    u-component_of_wind_sigma                                                   (sigma, lat, lon) float64 -2.62 ...\n",
       "    v-component_of_wind_sigma                                                   (sigma, lat, lon) float64 0.35 ...\n",
       "    Planetary_Boundary_Layer_Height_surface                                     (lat, lon) float64 24.04 ...\n",
       "    Convective_Precipitation_Rate_surface_Mixed_intervals_Average               (lat, lon) float64 0.0 ...\n",
       "    Vertical_velocity_pressure_sigma                                            (sigma, lat, lon) float64 2.037 ...\n",
       "    Total_cloud_cover_entire_atmosphere_Mixed_intervals_Average                 (lat, lon) float64 0.0 ...\n",
       "    Geopotential_height_highest_tropospheric_freezing                           (lat, lon) float64 1.945e+03 ...\n",
       "    Cloud_water_entire_atmosphere_single_layer                                  (lat, lon) float64 0.0 ...\n",
       "    Pressure_potential_vorticity_surface                                        (potential_vorticity_surface, lat, lon) float64 nan ...\n",
       "    Temperature_potential_vorticity_surface                                     (potential_vorticity_surface, lat, lon) float64 nan ...\n",
       "    u-component_of_wind_potential_vorticity_surface                             (potential_vorticity_surface, lat, lon) float64 nan ...\n",
       "    v-component_of_wind_potential_vorticity_surface                             (potential_vorticity_surface, lat, lon) float64 nan ...\n",
       "    Geopotential_height_potential_vorticity_surface                             (potential_vorticity_surface, lat, lon) float64 nan ...\n",
       "Attributes:\n",
       "    Originating_or_generating_Center: US National Weather Service, National Centres for Environmental Prediction (NCEP)\n",
       "    Originating_or_generating_Subcenter: 0\n",
       "    GRIB_table_version: 2,1\n",
       "    Type_of_generating_process: Forecast\n",
       "    Analysis_or_forecast_generating_process_identifier_defined_by_originating_centre: Analysis from GFS (Global Forecast System)\n",
       "    file_format: GRIB-2\n",
       "    Conventions: CF-1.6\n",
       "    history: Read using CDM IOSP GribCollection v3\n",
       "    featureType: GRID\n",
       "    _CoordSysBuilder: ucar.nc2.dataset.conv.CF1Convention"
      ]
     },
     "execution_count": 36,
     "metadata": {},
     "output_type": "execute_result"
    }
   ],
   "source": [
    "ds_snapshot"
   ]
  },
  {
   "cell_type": "code",
   "execution_count": 37,
   "metadata": {
    "collapsed": false
   },
   "outputs": [],
   "source": [
    "#ds_snapshot.to_netcdf('ds_snapshot.nc')"
   ]
  },
  {
   "cell_type": "code",
   "execution_count": null,
   "metadata": {
    "collapsed": false
   },
   "outputs": [],
   "source": []
  }
 ],
 "metadata": {
  "gist_id": "047235496029529585cc",
  "kernelspec": {
   "display_name": "Python 2",
   "language": "python",
   "name": "python2"
  },
  "language_info": {
   "codemirror_mode": {
    "name": "ipython",
    "version": 2
   },
   "file_extension": ".py",
   "mimetype": "text/x-python",
   "name": "python",
   "nbconvert_exporter": "python",
   "pygments_lexer": "ipython2",
   "version": "2.7.10"
  }
 },
 "nbformat": 4,
 "nbformat_minor": 0
}
