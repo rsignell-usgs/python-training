{
 "cells": [
  {
   "cell_type": "markdown",
   "metadata": {},
   "source": [
    "##Testing Xray on the PRISM data"
   ]
  },
  {
   "cell_type": "code",
   "execution_count": 2,
   "metadata": {
    "collapsed": false
   },
   "outputs": [],
   "source": [
    "import xray\n",
    "import datetime\n",
    "import matplotlib.pyplot as plt\n",
    "import numpy as np\n",
    "import pandas as pd\n",
    "%matplotlib inline"
   ]
  },
  {
   "cell_type": "code",
   "execution_count": 3,
   "metadata": {
    "collapsed": false
   },
   "outputs": [],
   "source": [
    "URL = 'http://cida.usgs.gov/thredds/dodsC/prism_v2'"
   ]
  },
  {
   "cell_type": "code",
   "execution_count": 4,
   "metadata": {
    "collapsed": false
   },
   "outputs": [],
   "source": [
    "ds = xray.open_dataset(URL)"
   ]
  },
  {
   "cell_type": "code",
   "execution_count": 5,
   "metadata": {
    "collapsed": false
   },
   "outputs": [
    {
     "data": {
      "text/plain": [
       "<xray.Dataset>\n",
       "Dimensions:    (lat: 621, lon: 1405, tbnd: 2, time: 1440)\n",
       "Coordinates:\n",
       "  * lon        (lon) float32 -125.021 -124.979 -124.938 -124.896 -124.854 ...\n",
       "  * lat        (lat) float32 49.9375 49.8958 49.8542 49.8125 49.7708 49.7292 ...\n",
       "  * time       (time) datetime64[ns] 1895-01-01 1895-02-01 1895-03-01 ...\n",
       "  * tbnd       (tbnd) int64 0 1\n",
       "Data variables:\n",
       "    time_bnds  (time, tbnd) float32 ...\n",
       "    ppt        (time, lat, lon) float64 ...\n",
       "    tmx        (time, lat, lon) float64 ...\n",
       "    tmn        (time, lat, lon) float64 ...\n",
       "Attributes:\n",
       "    Conventions: CF-1.4\n",
       "    acknowledgment: PRISM Climate Group, Oregon State University, http://prism.oregonstate.edu, Accessed August 2015.\n",
       "    Metadata_Conventions: Unidata Dataset Discovery v1.0\n",
       "    title: Parameter-elevation Regressions on Independent Slopes Model Monthly Climate Data for the Continental United States. August 2015 Snapshot\n",
       "    summary:  This dataset was created using the PRISM (Parameter-elevation Regressions on Independent Slopes Model) climate mapping system, developed by Dr. Christopher Daly, PRISM Climate Group director. PRISM is a unique knowledge-based system that uses point measurements of precipitation, temperature, and other climatic factors to produce continuous, digital grid estimates of monthly, yearly, and event-based climatic parameters. Continuously updated, this unique analytical tool incorporates point data...\n",
       "    keywords: Atmospheric Temperature, Air Temperature Atmosphere, Precipitation, Rain, Maximum Daily Temperature, Minimum  Daily Temperature\n",
       "    keywords_vocabulary: GCMD Science Keywords\n",
       "    id: prism/thredds/cida.usgs.gov\n",
       "    naming_authority: cida.usgs.gov\n",
       "    cdm_data_type: Grid\n",
       "    creator_name: Christopher Daley\n",
       "    creator_email: daley@nacse.org\n",
       "    publisher_name: PRISM Climate Group\n",
       "    publisher_url: http://prism.oregonstate.edu/\n",
       "    geospatial_lat_min: 24\n",
       "    geospatial_lat_max: 53\n",
       "    geospatial_lon_min: -125\n",
       "    geospatial_lon_max: -67\n",
       "    time_coverage_start: 1895-01-01T00:00\n",
       "    time_coverage_end: 2014-12-01T00:00\n",
       "    time_coverage_resolution: Monthly\n",
       "    license: Freely Available: The PRISM Climate Group, Oregon State University retains rights to ownership of the data and information.\n",
       "    authors: PRISM Climate Group\n",
       "    institution: Oregon State University"
      ]
     },
     "execution_count": 5,
     "metadata": {},
     "output_type": "execute_result"
    }
   ],
   "source": [
    "ds"
   ]
  },
  {
   "cell_type": "code",
   "execution_count": 6,
   "metadata": {
    "collapsed": false
   },
   "outputs": [],
   "source": [
    "# select lat,lon region of interest\n",
    "# note: slice(20.5,55.0) fails\n",
    "dsloc = ds.sel(lon=slice(-75.0,-69.0),lat=slice(45.0,40.0))"
   ]
  },
  {
   "cell_type": "code",
   "execution_count": 7,
   "metadata": {
    "collapsed": false
   },
   "outputs": [
    {
     "data": {
      "text/plain": [
       "<xray.Dataset>\n",
       "Dimensions:    (lat: 120, lon: 144, tbnd: 2, time: 1440)\n",
       "Coordinates:\n",
       "  * lon        (lon) float32 -74.9792 -74.9375 -74.8958 -74.8542 -74.8125 ...\n",
       "  * lat        (lat) float32 44.9792 44.9375 44.8958 44.8542 44.8125 44.7708 ...\n",
       "  * time       (time) datetime64[ns] 1895-01-01 1895-02-01 1895-03-01 ...\n",
       "  * tbnd       (tbnd) int64 0 1\n",
       "Data variables:\n",
       "    time_bnds  (time, tbnd) float32 9131.0 9161.0 9162.0 9189.0 9190.0 ...\n",
       "    ppt        (time, lat, lon) float64 58.03 55.95 54.56 53.92 54.26 54.99 ...\n",
       "    tmx        (time, lat, lon) float64 -3.73 -3.68 -3.67 -3.83 -3.89 -3.94 ...\n",
       "    tmn        (time, lat, lon) float64 -12.94 -12.94 -12.92 -12.88 -12.83 ...\n",
       "Attributes:\n",
       "    Conventions: CF-1.4\n",
       "    acknowledgment: PRISM Climate Group, Oregon State University, http://prism.oregonstate.edu, Accessed August 2015.\n",
       "    Metadata_Conventions: Unidata Dataset Discovery v1.0\n",
       "    title: Parameter-elevation Regressions on Independent Slopes Model Monthly Climate Data for the Continental United States. August 2015 Snapshot\n",
       "    summary:  This dataset was created using the PRISM (Parameter-elevation Regressions on Independent Slopes Model) climate mapping system, developed by Dr. Christopher Daly, PRISM Climate Group director. PRISM is a unique knowledge-based system that uses point measurements of precipitation, temperature, and other climatic factors to produce continuous, digital grid estimates of monthly, yearly, and event-based climatic parameters. Continuously updated, this unique analytical tool incorporates point data...\n",
       "    keywords: Atmospheric Temperature, Air Temperature Atmosphere, Precipitation, Rain, Maximum Daily Temperature, Minimum  Daily Temperature\n",
       "    keywords_vocabulary: GCMD Science Keywords\n",
       "    id: prism/thredds/cida.usgs.gov\n",
       "    naming_authority: cida.usgs.gov\n",
       "    cdm_data_type: Grid\n",
       "    creator_name: Christopher Daley\n",
       "    creator_email: daley@nacse.org\n",
       "    publisher_name: PRISM Climate Group\n",
       "    publisher_url: http://prism.oregonstate.edu/\n",
       "    geospatial_lat_min: 24\n",
       "    geospatial_lat_max: 53\n",
       "    geospatial_lon_min: -125\n",
       "    geospatial_lon_max: -67\n",
       "    time_coverage_start: 1895-01-01T00:00\n",
       "    time_coverage_end: 2014-12-01T00:00\n",
       "    time_coverage_resolution: Monthly\n",
       "    license: Freely Available: The PRISM Climate Group, Oregon State University retains rights to ownership of the data and information.\n",
       "    authors: PRISM Climate Group\n",
       "    institution: Oregon State University"
      ]
     },
     "execution_count": 7,
     "metadata": {},
     "output_type": "execute_result"
    }
   ],
   "source": [
    "dsloc"
   ]
  },
  {
   "cell_type": "code",
   "execution_count": 8,
   "metadata": {
    "collapsed": false
   },
   "outputs": [],
   "source": [
    "# select closest data to time of interest\n",
    "date = datetime.datetime(2005,8,1,0,0)\n",
    "#date = datetime.datetime.now()\n",
    "ds_snapshot = dsloc.sel(time=date,method='nearest')"
   ]
  },
  {
   "cell_type": "code",
   "execution_count": 10,
   "metadata": {
    "collapsed": false
   },
   "outputs": [
    {
     "data": {
      "text/plain": [
       "Data variables:\n",
       "    time_bnds  (tbnd) float32 49520.0 49550.0\n",
       "    ppt        (lat, lon) float64 97.85 95.44 93.59 92.65 92.37 92.32 92.05 ...\n",
       "    tmx        (lat, lon) float64 26.77 26.79 26.81 26.84 26.92 26.95 26.95 ...\n",
       "    tmn        (lat, lon) float64 15.5 15.34 15.25 15.47 15.88 16.15 16.11 ..."
      ]
     },
     "execution_count": 10,
     "metadata": {},
     "output_type": "execute_result"
    }
   ],
   "source": [
    "ds_snapshot.data_vars\n",
    "# ds.coords\n",
    "# ds.attrs"
   ]
  },
  {
   "cell_type": "code",
   "execution_count": 11,
   "metadata": {
    "collapsed": false
   },
   "outputs": [],
   "source": [
    "t = ds_snapshot['ppt']"
   ]
  },
  {
   "cell_type": "code",
   "execution_count": 12,
   "metadata": {
    "collapsed": false
   },
   "outputs": [
    {
     "data": {
      "text/plain": [
       "(120, 144)"
      ]
     },
     "execution_count": 12,
     "metadata": {},
     "output_type": "execute_result"
    }
   ],
   "source": [
    "t.shape"
   ]
  },
  {
   "cell_type": "code",
   "execution_count": 15,
   "metadata": {
    "collapsed": false
   },
   "outputs": [],
   "source": [
    "tvals = t.data"
   ]
  },
  {
   "cell_type": "code",
   "execution_count": 16,
   "metadata": {
    "collapsed": false
   },
   "outputs": [
    {
     "data": {
      "text/plain": [
       "array([[  97.85,   95.44,   93.59, ...,  109.25,   99.22,   97.85],\n",
       "       [  98.45,   95.35,   93.51, ...,  103.04,   97.48,   97.03],\n",
       "       [  97.84,   94.85,   92.79, ...,   96.45,   96.1 ,   95.92],\n",
       "       ..., \n",
       "       [  62.36,   66.83,   76.14, ...,     nan,     nan,     nan],\n",
       "       [  85.24,   88.14,   92.04, ...,     nan,     nan,     nan],\n",
       "       [  99.48,   98.34,  100.39, ...,     nan,     nan,     nan]])"
      ]
     },
     "execution_count": 16,
     "metadata": {},
     "output_type": "execute_result"
    }
   ],
   "source": [
    "tvals"
   ]
  },
  {
   "cell_type": "code",
   "execution_count": 18,
   "metadata": {
    "collapsed": false
   },
   "outputs": [],
   "source": [
    "tvals = np.ma.masked_invalid(t.data)"
   ]
  },
  {
   "cell_type": "code",
   "execution_count": 19,
   "metadata": {
    "collapsed": false
   },
   "outputs": [
    {
     "data": {
      "text/plain": [
       "masked_array(data =\n",
       " [[97.85000000000001 95.44 93.59 ..., 109.25 99.22 97.85000000000001]\n",
       " [98.45 95.35000000000001 93.51 ..., 103.04 97.48 97.03]\n",
       " [97.84 94.85000000000001 92.79 ..., 96.45 96.10000000000001 95.92]\n",
       " ..., \n",
       " [62.36 66.83 76.14 ..., -- -- --]\n",
       " [85.24 88.14 92.04 ..., -- -- --]\n",
       " [99.48 98.34 100.39 ..., -- -- --]],\n",
       "             mask =\n",
       " [[False False False ..., False False False]\n",
       " [False False False ..., False False False]\n",
       " [False False False ..., False False False]\n",
       " ..., \n",
       " [False False False ...,  True  True  True]\n",
       " [False False False ...,  True  True  True]\n",
       " [False False False ...,  True  True  True]],\n",
       "       fill_value = 1e+20)"
      ]
     },
     "execution_count": 19,
     "metadata": {},
     "output_type": "execute_result"
    }
   ],
   "source": [
    "tvals"
   ]
  },
  {
   "cell_type": "code",
   "execution_count": 20,
   "metadata": {
    "collapsed": false
   },
   "outputs": [
    {
     "data": {
      "image/png": "[encoded data removed]",
      "text/plain": [
       "<matplotlib.figure.Figure at 0x409f278>"
      ]
     },
     "metadata": {},
     "output_type": "display_data"
    }
   ],
   "source": [
    "plt.pcolormesh(t.lon.data,t.lat.data,tvals)\n",
    "plt.title(t.name+pd.Timestamp(t.time.values).strftime(': %Y-%m-%d  %H:%M:%S %Z %z'));\n",
    "plt.colorbar();"
   ]
  },
  {
   "cell_type": "code",
   "execution_count": 21,
   "metadata": {
    "collapsed": false
   },
   "outputs": [
    {
     "data": {
      "text/plain": [
       "5.5899999999999999"
      ]
     },
     "execution_count": 21,
     "metadata": {},
     "output_type": "execute_result"
    }
   ],
   "source": [
    "tvals.min()"
   ]
  },
  {
   "cell_type": "code",
   "execution_count": 22,
   "metadata": {
    "collapsed": false
   },
   "outputs": [],
   "source": [
    "# time series closest to specified lon,lat location\n",
    "ds_series = ds.sel(lon=-72.,lat=42.,method='nearest')"
   ]
  },
  {
   "cell_type": "code",
   "execution_count": 23,
   "metadata": {
    "collapsed": false
   },
   "outputs": [],
   "source": [
    "# Select temperature and convert to Pandas Series\n",
    "v_series = ds_series['ppt'].to_series()"
   ]
  },
  {
   "cell_type": "code",
   "execution_count": 24,
   "metadata": {
    "collapsed": false
   },
   "outputs": [
    {
     "data": {
      "image/png": "[encoded data removed]",
      "text/plain": [
       "<matplotlib.figure.Figure at 0xb88ab00>"
      ]
     },
     "metadata": {},
     "output_type": "display_data"
    }
   ],
   "source": [
    "v_series.plot(title=v_series.name);"
   ]
  },
  {
   "cell_type": "code",
   "execution_count": 25,
   "metadata": {
    "collapsed": false
   },
   "outputs": [
    {
     "data": {
      "text/plain": [
       "<xray.Dataset>\n",
       "Dimensions:    (lat: 120, lon: 144, tbnd: 2)\n",
       "Coordinates:\n",
       "  * lon        (lon) float32 -74.9792 -74.9375 -74.8958 -74.8542 -74.8125 ...\n",
       "  * lat        (lat) float32 44.9792 44.9375 44.8958 44.8542 44.8125 44.7708 ...\n",
       "    time       datetime64[ns] 2005-08-01\n",
       "  * tbnd       (tbnd) int64 0 1\n",
       "Data variables:\n",
       "    time_bnds  (tbnd) float32 49520.0 49550.0\n",
       "    ppt        (lat, lon) float64 97.85 95.44 93.59 92.65 92.37 92.32 92.05 ...\n",
       "    tmx        (lat, lon) float64 26.77 26.79 26.81 26.84 26.92 26.95 26.95 ...\n",
       "    tmn        (lat, lon) float64 15.5 15.34 15.25 15.47 15.88 16.15 16.11 ...\n",
       "Attributes:\n",
       "    Conventions: CF-1.4\n",
       "    acknowledgment: PRISM Climate Group, Oregon State University, http://prism.oregonstate.edu, Accessed August 2015.\n",
       "    Metadata_Conventions: Unidata Dataset Discovery v1.0\n",
       "    title: Parameter-elevation Regressions on Independent Slopes Model Monthly Climate Data for the Continental United States. August 2015 Snapshot\n",
       "    summary:  This dataset was created using the PRISM (Parameter-elevation Regressions on Independent Slopes Model) climate mapping system, developed by Dr. Christopher Daly, PRISM Climate Group director. PRISM is a unique knowledge-based system that uses point measurements of precipitation, temperature, and other climatic factors to produce continuous, digital grid estimates of monthly, yearly, and event-based climatic parameters. Continuously updated, this unique analytical tool incorporates point data...\n",
       "    keywords: Atmospheric Temperature, Air Temperature Atmosphere, Precipitation, Rain, Maximum Daily Temperature, Minimum  Daily Temperature\n",
       "    keywords_vocabulary: GCMD Science Keywords\n",
       "    id: prism/thredds/cida.usgs.gov\n",
       "    naming_authority: cida.usgs.gov\n",
       "    cdm_data_type: Grid\n",
       "    creator_name: Christopher Daley\n",
       "    creator_email: daley@nacse.org\n",
       "    publisher_name: PRISM Climate Group\n",
       "    publisher_url: http://prism.oregonstate.edu/\n",
       "    geospatial_lat_min: 24\n",
       "    geospatial_lat_max: 53\n",
       "    geospatial_lon_min: -125\n",
       "    geospatial_lon_max: -67\n",
       "    time_coverage_start: 1895-01-01T00:00\n",
       "    time_coverage_end: 2014-12-01T00:00\n",
       "    time_coverage_resolution: Monthly\n",
       "    license: Freely Available: The PRISM Climate Group, Oregon State University retains rights to ownership of the data and information.\n",
       "    authors: PRISM Climate Group\n",
       "    institution: Oregon State University"
      ]
     },
     "execution_count": 25,
     "metadata": {},
     "output_type": "execute_result"
    }
   ],
   "source": [
    "ds_snapshot"
   ]
  },
  {
   "cell_type": "code",
   "execution_count": null,
   "metadata": {
    "collapsed": false
   },
   "outputs": [],
   "source": [
    "#ds_snapshot.to_netcdf('ds_snapshot.nc')"
   ]
  },
  {
   "cell_type": "code",
   "execution_count": null,
   "metadata": {
    "collapsed": false
   },
   "outputs": [],
   "source": []
  }
 ],
 "metadata": {
  "gist_id": "047235496029529585cc",
  "kernelspec": {
   "display_name": "Python 2",
   "language": "python",
   "name": "python2"
  },
  "language_info": {
   "codemirror_mode": {
    "name": "ipython",
    "version": 2
   },
   "file_extension": ".py",
   "mimetype": "text/x-python",
   "name": "python",
   "nbconvert_exporter": "python",
   "pygments_lexer": "ipython2",
   "version": "2.7.10"
  }
 },
 "nbformat": 4,
 "nbformat_minor": 0
}
