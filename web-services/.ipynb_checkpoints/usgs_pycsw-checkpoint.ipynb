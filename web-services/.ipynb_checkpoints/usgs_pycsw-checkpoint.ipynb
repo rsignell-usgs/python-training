{
 "cells": [
  {
   "cell_type": "markdown",
   "metadata": {},
   "source": [
    "#Query `apiso:ServiceType` on geoport pycsw "
   ]
  },
  {
   "cell_type": "code",
   "execution_count": 1,
   "metadata": {
    "collapsed": false
   },
   "outputs": [],
   "source": [
    "from owslib.csw import CatalogueServiceWeb\n",
    "from owslib import fes\n",
    "import numpy as np"
   ]
  },
  {
   "cell_type": "code",
   "execution_count": 2,
   "metadata": {
    "collapsed": false
   },
   "outputs": [
    {
     "name": "stdout",
     "output_type": "stream",
     "text": [
      "2.0.2\n"
     ]
    }
   ],
   "source": [
    "endpoint = 'http://geoport.whoi.edu/csw'   # NODC/UAF Geoportal: granule level\n",
    "csw = CatalogueServiceWeb(endpoint,timeout=60)\n",
    "print csw.version"
   ]
  },
  {
   "cell_type": "code",
   "execution_count": 3,
   "metadata": {
    "collapsed": false
   },
   "outputs": [
    {
     "data": {
      "text/plain": [
       "[Constraint: SupportedISOQueryables - ['apiso:DistanceValue', 'apiso:Abstract', 'apiso:RevisionDate', 'apiso:Subject', 'apiso:KeywordType', 'apiso:Title', 'apiso:CRS', 'apiso:PublicationDate', 'apiso:Type', 'apiso:AlternateTitle', 'apiso:BoundingBox', 'apiso:AnyText', 'apiso:ParentIdentifier', 'apiso:Modified', 'apiso:Operation', 'apiso:Format', 'apiso:TempExtent_end', 'apiso:DistanceUOM', 'apiso:OrganisationName', 'apiso:ServiceType', 'apiso:TempExtent_begin', 'apiso:ResourceLanguage', 'apiso:ServiceTypeVersion', 'apiso:OperatesOn', 'apiso:Denominator', 'apiso:HasSecurityConstraints', 'apiso:OperatesOnIdentifier', 'apiso:GeographicDescriptionCode', 'apiso:Language', 'apiso:Identifier', 'apiso:OperatesOnName', 'apiso:TopicCategory', 'apiso:CreationDate', 'apiso:CouplingType'],\n",
       " Constraint: AdditionalQueryables - ['apiso:Lineage', 'apiso:Classification', 'apiso:Creator', 'apiso:Relation', 'apiso:OtherConstraints', 'apiso:SpecificationTitle', 'apiso:ResponsiblePartyRole', 'apiso:SpecificationDateType', 'apiso:Degree', 'apiso:Contributor', 'apiso:ConditionApplyingToAccessAndUse', 'apiso:SpecificationDate', 'apiso:AccessConstraints', 'apiso:Publisher'],\n",
       " Constraint: SupportedDublinCoreQueryables - ['dc:contributor', 'dc:source', 'dc:language', 'dc:title', 'dc:subject', 'dc:creator', 'dc:type', 'ows:BoundingBox', 'dct:modified', 'dct:abstract', 'dc:relation', 'dc:date', 'dc:identifier', 'dc:publisher', 'dc:format', 'csw:AnyText', 'dc:rights']]"
      ]
     },
     "execution_count": 3,
     "metadata": {},
     "output_type": "execute_result"
    }
   ],
   "source": [
    "csw.get_operation_by_name('GetRecords').constraints"
   ]
  },
  {
   "cell_type": "code",
   "execution_count": 4,
   "metadata": {
    "collapsed": false
   },
   "outputs": [],
   "source": [
    "#val = 'CMG_Portal'\n",
    "val = 'modflow'\n",
    "filter1 = fes.PropertyIsLike(propertyname='apiso:AnyText',literal=('*%s*' % val),\n",
    "                        escapeChar='\\\\',wildCard='*',singleChar='?')\n",
    "filter_list = [ filter1 ]"
   ]
  },
  {
   "cell_type": "code",
   "execution_count": 5,
   "metadata": {
    "collapsed": false
   },
   "outputs": [
    {
     "name": "stdout",
     "output_type": "stream",
     "text": [
      "4\n",
      "modflow2netcdf/carolina.nc\n",
      "modflow2netcdf/colorado.nc\n",
      "modflow2netcdf/freyberg.nc\n",
      "modflow2netcdf/miami-dade.nc\n"
     ]
    }
   ],
   "source": [
    "csw.getrecords2(constraints=filter_list,maxrecords=100,esn='full')\n",
    "print len(csw.records.keys())\n",
    "for rec in list(csw.records.keys()):\n",
    "    print csw.records[rec].title \n",
    "    "
   ]
  },
  {
   "cell_type": "code",
   "execution_count": 6,
   "metadata": {
    "collapsed": false
   },
   "outputs": [
    {
     "name": "stdout",
     "output_type": "stream",
     "text": [
      "modflow2netcdf/carolina.nc\n"
     ]
    },
    {
     "data": {
      "text/plain": [
       "[{'scheme': 'WWW:LINK',\n",
       "  'url': 'http://thredds45.pvd.axiomalaska.com/thredds/dodsC/grabbag/modflow2netcdf/carolina.nc.html'},\n",
       " {'scheme': 'None',\n",
       "  'url': 'http://www.ncdc.noaa.gov/oa/wct/wct-jnlp-beta.php?singlefile=http://thredds45.pvd.axiomalaska.com/thredds/dodsC/grabbag/modflow2netcdf/carolina.nc'},\n",
       " {'scheme': 'None',\n",
       "  'url': 'http://thredds45.pvd.axiomalaska.com/thredds/dodsC/grabbag/modflow2netcdf/carolina.nc'},\n",
       " {'scheme': 'None',\n",
       "  'url': 'http://thredds45.pvd.axiomalaska.com/thredds/wms/grabbag/modflow2netcdf/carolina.nc?service=WMS&version=1.3.0&request=GetCapabilities'},\n",
       " {'scheme': 'None',\n",
       "  'url': 'http://thredds45.pvd.axiomalaska.com/thredds/ncss/grid/grabbag/modflow2netcdf/carolina.nc/dataset.html'}]"
      ]
     },
     "execution_count": 6,
     "metadata": {},
     "output_type": "execute_result"
    }
   ],
   "source": [
    "choice=np.random.choice(list(csw.records.keys()))\n",
    "print(csw.records[choice].title)\n",
    "csw.records[choice].references"
   ]
  },
  {
   "cell_type": "markdown",
   "metadata": {},
   "source": [
    "Add bounding box constraint. To specify lon,lat order for bbox (which we want to do so that we can use the same bbox with either geoportal server or pycsw requests), we need to request the bounding box specifying the CRS84 coordinate reference system.   The CRS84 option is available in `pycsw 1.1.10`+. The ability to specify the `crs` in the bounding box request is available in `owslib 0.8.12`+.  For more info on the bounding box problem and how it was solved, see this [pycsw issue](https://github.com/geopython/pycsw/issues/287), this [geoportal server issue](https://github.com/Esri/geoportal-server/issues/124), and this [owslib issue](https://github.com/geopython/OWSLib/issues/201)"
   ]
  },
  {
   "cell_type": "code",
   "execution_count": 7,
   "metadata": {
    "collapsed": false
   },
   "outputs": [],
   "source": [
    "bbox = [-87.40, 34.25, -63.70, 66.70]    # [lon_min, lat_min, lon_max, lat_max]\n",
    "bbox_filter = fes.BBox(bbox,crs='urn:ogc:def:crs:OGC:1.3:CRS84')\n",
    "filter_list = [fes.And([filter1, bbox_filter])]\n",
    "csw.getrecords2(constraints=filter_list, maxrecords=1000)"
   ]
  },
  {
   "cell_type": "code",
   "execution_count": 8,
   "metadata": {
    "collapsed": false
   },
   "outputs": [
    {
     "name": "stdout",
     "output_type": "stream",
     "text": [
      "1\n",
      "title:modflow2netcdf/carolina.nc\n",
      "identifier:grabbag/modflow2netcdf/carolina.nc\n",
      "modified:2015-09-03\n",
      " \n"
     ]
    }
   ],
   "source": [
    "print(len(csw.records.keys()))\n",
    "for rec in list(csw.records.keys()):\n",
    "    print('title:'+csw.records[rec].title) \n",
    "    print('identifier:'+csw.records[rec].identifier)\n",
    "    print('modified:'+csw.records[rec].modified)\n",
    "    print(' ')"
   ]
  },
  {
   "cell_type": "code",
   "execution_count": 9,
   "metadata": {
    "collapsed": false
   },
   "outputs": [],
   "source": [
    "val = 'opendap'\n",
    "filter2 = fes.PropertyIsLike(propertyname='apiso:ServiceType',literal=('*%s*' % val),\n",
    "                        escapeChar='\\\\',wildCard='*',singleChar='?')\n",
    "filter_list = [fes.And([filter1, filter2, bbox_filter])]\n",
    "csw.getrecords2(constraints=filter_list, maxrecords=1000)"
   ]
  },
  {
   "cell_type": "code",
   "execution_count": 10,
   "metadata": {
    "collapsed": false
   },
   "outputs": [
    {
     "name": "stdout",
     "output_type": "stream",
     "text": [
      "1\n",
      "title:modflow2netcdf/carolina.nc\n",
      "identifier:grabbag/modflow2netcdf/carolina.nc\n",
      "modified:2015-09-03\n",
      " \n"
     ]
    }
   ],
   "source": [
    "print(len(csw.records.keys()))\n",
    "for rec in list(csw.records.keys()):\n",
    "    print('title:'+csw.records[rec].title) \n",
    "    print('identifier:'+csw.records[rec].identifier)\n",
    "    print('modified:'+csw.records[rec].modified)\n",
    "    print(' ')"
   ]
  },
  {
   "cell_type": "code",
   "execution_count": null,
   "metadata": {
    "collapsed": false
   },
   "outputs": [],
   "source": []
  }
 ],
 "metadata": {
  "gist_id": "0fc4f5cd1f85ec411458",
  "kernelspec": {
   "display_name": "Python 2",
   "language": "python",
   "name": "python2"
  },
  "language_info": {
   "codemirror_mode": {
    "name": "ipython",
    "version": 2
   },
   "file_extension": ".py",
   "mimetype": "text/x-python",
   "name": "python",
   "nbconvert_exporter": "python",
   "pygments_lexer": "ipython2",
   "version": "2.7.10"
  }
 },
 "nbformat": 4,
 "nbformat_minor": 0
}
