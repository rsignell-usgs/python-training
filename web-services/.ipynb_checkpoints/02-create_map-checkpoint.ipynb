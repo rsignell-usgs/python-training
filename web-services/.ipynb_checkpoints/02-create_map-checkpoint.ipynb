{
 "cells": [
  {
   "cell_type": "markdown",
   "metadata": {},
   "source": [
    "<img style='float: left' width=\"150px\" src=\"http://bostonlightswim.org/wp/wp-content/uploads/2011/08/BLS-front_4-color.jpg\">\n",
    "<br><br>\n",
    "\n",
    "## [The Boston Light Swim](http://bostonlightswim.org/)\n",
    "\n",
    "### Sea Surface Temperature time-series maps"
   ]
  },
  {
   "cell_type": "markdown",
   "metadata": {},
   "source": [
    "### Load configuration"
   ]
  },
  {
   "cell_type": "code",
   "execution_count": 1,
   "metadata": {
    "collapsed": false
   },
   "outputs": [
    {
     "ename": "ImportError",
     "evalue": "No module named iris.unit",
     "output_type": "error",
     "traceback": [
      "\u001b[1;31m---------------------------------------------------------------------------\u001b[0m",
      "\u001b[1;31mImportError\u001b[0m                               Traceback (most recent call last)",
      "\u001b[1;32m<ipython-input-1-2912e7ca2351>\u001b[0m in \u001b[0;36m<module>\u001b[1;34m()\u001b[0m\n\u001b[0;32m      9\u001b[0m \u001b[0mfname\u001b[0m \u001b[1;33m=\u001b[0m \u001b[0mos\u001b[0m\u001b[1;33m.\u001b[0m\u001b[0mpath\u001b[0m\u001b[1;33m.\u001b[0m\u001b[0mjoin\u001b[0m\u001b[1;33m(\u001b[0m\u001b[0mrun_name\u001b[0m\u001b[1;33m,\u001b[0m \u001b[1;34m'config.pkl'\u001b[0m\u001b[1;33m)\u001b[0m\u001b[1;33m\u001b[0m\u001b[0m\n\u001b[0;32m     10\u001b[0m \u001b[1;32mwith\u001b[0m \u001b[0mopen\u001b[0m\u001b[1;33m(\u001b[0m\u001b[0mfname\u001b[0m\u001b[1;33m,\u001b[0m \u001b[1;34m'rb'\u001b[0m\u001b[1;33m)\u001b[0m \u001b[1;32mas\u001b[0m \u001b[0mf\u001b[0m\u001b[1;33m:\u001b[0m\u001b[1;33m\u001b[0m\u001b[0m\n\u001b[1;32m---> 11\u001b[1;33m     \u001b[0mconfig\u001b[0m \u001b[1;33m=\u001b[0m \u001b[0mpickle\u001b[0m\u001b[1;33m.\u001b[0m\u001b[0mload\u001b[0m\u001b[1;33m(\u001b[0m\u001b[0mf\u001b[0m\u001b[1;33m)\u001b[0m\u001b[1;33m\u001b[0m\u001b[0m\n\u001b[0m",
      "\u001b[1;31mImportError\u001b[0m: No module named iris.unit"
     ]
    }
   ],
   "source": [
    "import os\n",
    "\n",
    "try:\n",
    "    import cPickle as pickle\n",
    "except ImportError:\n",
    "    import pickle\n",
    "\n",
    "run_name = '2015-08-17'\n",
    "fname = os.path.join(run_name, 'config.pkl')\n",
    "with open(fname, 'rb') as f:\n",
    "    config = pickle.load(f)"
   ]
  },
  {
   "cell_type": "markdown",
   "metadata": {},
   "source": [
    "### Load skill_score"
   ]
  },
  {
   "cell_type": "code",
   "execution_count": null,
   "metadata": {
    "collapsed": false
   },
   "outputs": [],
   "source": [
    "try:\n",
    "    import cPickle as pickle\n",
    "except ImportError:\n",
    "    import pickle\n",
    "\n",
    "fname = os.path.join(run_name, 'skill_score.pkl')\n",
    "with open(fname, 'rb') as f:\n",
    "    skill_score = pickle.load(f)"
   ]
  },
  {
   "cell_type": "code",
   "execution_count": null,
   "metadata": {
    "collapsed": false
   },
   "outputs": [],
   "source": [
    "import numpy as np\n",
    "from glob import glob\n",
    "from pandas import Panel\n",
    "from utilities import nc2df\n",
    "\n",
    "\n",
    "def load_ncs(run_name):\n",
    "    fname = '{}-{}.nc'.format\n",
    "    ALL_OBS_DATA = nc2df(os.path.join(run_name,\n",
    "                                      fname(run_name, 'OBS_DATA')))\n",
    "    index = ALL_OBS_DATA.index\n",
    "    dfs = dict(OBS_DATA=ALL_OBS_DATA)\n",
    "    for fname in glob(os.path.join(run_name, \"*.nc\")):\n",
    "        if 'OBS_DATA' in fname:\n",
    "            continue\n",
    "        else:\n",
    "            model = fname.split('.')[0].split('-')[-1]\n",
    "            df = nc2df(fname)\n",
    "            # FIXME: Horrible work around duplicate times.\n",
    "            if len(df.index.values) != len(np.unique(df.index.values)):\n",
    "                kw = dict(subset='index', take_last=True)\n",
    "                df = df.reset_index().drop_duplicates(**kw).set_index('index')\n",
    "            kw = dict(method='time', limit=30)\n",
    "            df = df.reindex(index).interpolate(**kw).ix[index]\n",
    "            dfs.update({model: df})\n",
    "\n",
    "    return Panel.fromDict(dfs).swapaxes(0, 2)"
   ]
  },
  {
   "cell_type": "code",
   "execution_count": null,
   "metadata": {
    "collapsed": false
   },
   "outputs": [],
   "source": [
    "from mpld3 import save_html\n",
    "import matplotlib.pyplot as plt\n",
    "from mpld3.plugins import LineLabelTooltip, connect\n",
    "\n",
    "from utilities import make_map\n",
    "\n",
    "bbox = config['bbox']\n",
    "units = config['units']\n",
    "run_name = config['run_name']\n",
    "\n",
    "kw = dict(zoom_start=12, line=True, states=False, secoora_stations=False)\n",
    "mapa = make_map(bbox, **kw)"
   ]
  },
  {
   "cell_type": "markdown",
   "metadata": {},
   "source": [
    "### Clusters"
   ]
  },
  {
   "cell_type": "code",
   "execution_count": null,
   "metadata": {
    "collapsed": false
   },
   "outputs": [],
   "source": [
    "from glob import glob\n",
    "from operator import itemgetter\n",
    "\n",
    "import iris\n",
    "from pandas import DataFrame, read_csv\n",
    "\n",
    "fname = '{}-all_obs.csv'.format(run_name)\n",
    "all_obs = read_csv(os.path.join(run_name, fname), index_col='name')\n",
    "\n",
    "big_list = []\n",
    "for fname in glob(os.path.join(run_name, \"*.nc\")):\n",
    "    if 'OBS_DATA' in fname:\n",
    "        continue\n",
    "    cube = iris.load_cube(fname)\n",
    "    model = fname.split('-')[-1].split('.')[0]\n",
    "    lons = cube.coord(axis='X').points\n",
    "    lats = cube.coord(axis='Y').points\n",
    "    stations = cube.coord('station name').points\n",
    "    models = [model]*lons.size\n",
    "    lista = zip(models, lons.tolist(), lats.tolist(), stations.tolist())\n",
    "    big_list.extend(lista)\n",
    "\n",
    "big_list.sort(key=itemgetter(3))\n",
    "df = DataFrame(big_list, columns=['name', 'lon', 'lat', 'station'])\n",
    "df.set_index('station', drop=True, inplace=True)\n",
    "groups = df.groupby(df.index)\n",
    "\n",
    "\n",
    "for station, info in groups:\n",
    "    sta_name = all_obs['station'][all_obs['station'].astype(str) == station].index[0]\n",
    "    for lat, lon, name in zip(info.lat, info.lon, info.name):\n",
    "        location = lat, lon\n",
    "        popup = '<b>{}</b>\\n{}'.format(sta_name, name)\n",
    "        mapa.simple_marker(location=location, popup=popup,\n",
    "                           clustered_marker=True)"
   ]
  },
  {
   "cell_type": "markdown",
   "metadata": {},
   "source": [
    "### Model and observations plots"
   ]
  },
  {
   "cell_type": "code",
   "execution_count": null,
   "metadata": {
    "collapsed": true
   },
   "outputs": [],
   "source": [
    "mean_bias = skill_score['mean_bias'].applymap('{:.2f}'.format).replace('nan', '--')\n",
    "skill = skill_score['rmse'].applymap('{:.2f}'.format).replace('nan', '--')\n",
    "\n",
    "resolution, width, height = 75, 7, 3\n",
    "\n",
    "def make_plot():\n",
    "    fig, ax = plt.subplots(figsize=(width, height))\n",
    "    ax.set_ylabel('Sea surface Temperature ({})'.format(units))\n",
    "    ax.grid(True)\n",
    "    return fig, ax\n",
    "\n",
    "\n",
    "dfs = load_ncs(run_name)\n",
    "dfs = dfs.swapaxes('items', 'major').resample('30min').swapaxes('items', 'major')\n",
    "\n",
    "for station in dfs:\n",
    "    sta_name = all_obs['station'][all_obs['station'].astype(str) == station].index[0]\n",
    "    df = dfs[station].dropna(axis=1, how='all')\n",
    "    if df.empty:\n",
    "        continue\n",
    "    labels = []\n",
    "    fig, ax = make_plot()\n",
    "    for col in df.columns:\n",
    "        serie = df[col].dropna()\n",
    "        lines = ax.plot(serie.index, serie, label=col,\n",
    "                        linewidth=2.5, alpha=0.5)\n",
    "        if 'OBS_DATA' not in col:\n",
    "            text0 = col\n",
    "            text1 = mean_bias[sta_name][col]\n",
    "            text2 = skill[sta_name][col]\n",
    "            tooltip = '{}:\\nbias {}\\nskill: {}'.format\n",
    "            labels.append(tooltip(text0, text1, text2))\n",
    "        else:\n",
    "            labels.append('OBS_DATA')\n",
    "    kw = dict(loc='upper center', bbox_to_anchor=(0.5, 1.05), numpoints=1,\n",
    "              ncol=2, framealpha=0)\n",
    "    l = ax.legend(**kw)\n",
    "    l.set_title(\"\")  # Workaround str(None).\n",
    "\n",
    "    [connect(fig, LineLabelTooltip(line, name))\n",
    "     for line, name in zip(ax.lines, labels)]\n",
    "\n",
    "    html = 'station_{}.html'.format(station)\n",
    "    save_html(fig, '{}/{}'.format(run_name, html))\n",
    "    plt.close(fig)\n",
    "\n",
    "    popup = \"<div align='center'> {} <br><iframe src='{}' alt='image'\"\n",
    "    popup += \"width='{}px' height='{}px' frameBorder='0'></div>\"\n",
    "    popup = popup.format('{}'.format(sta_name), html,\n",
    "                         (width*resolution)+75, (height*resolution)+50)\n",
    "    kw = dict(popup=popup, width=(width*resolution)+75)\n",
    "\n",
    "    if (df.columns == 'OBS_DATA').all():\n",
    "        kw.update(dict(marker_color=\"blue\", marker_icon=\"ok\"))\n",
    "    else:\n",
    "        kw.update(dict(marker_color=\"green\", marker_icon=\"ok\"))\n",
    "    obs = all_obs[all_obs['station'].astype(str) == station].squeeze()\n",
    "    mapa.simple_marker(location=[obs['lat'], obs['lon']], **kw)"
   ]
  },
  {
   "cell_type": "markdown",
   "metadata": {},
   "source": [
    "### Map"
   ]
  },
  {
   "cell_type": "code",
   "execution_count": null,
   "metadata": {
    "collapsed": false
   },
   "outputs": [],
   "source": [
    "from utilities import inline_map\n",
    "\n",
    "\n",
    "mapa.create_map(path=os.path.join(run_name, 'mapa.html'))\n",
    "inline_map(os.path.join(run_name, 'mapa.html'))"
   ]
  }
 ],
 "metadata": {
  "kernelspec": {
   "display_name": "Python 2",
   "language": "python",
   "name": "python2"
  },
  "language_info": {
   "codemirror_mode": {
    "name": "ipython",
    "version": 2
   },
   "file_extension": ".py",
   "mimetype": "text/x-python",
   "name": "python",
   "nbconvert_exporter": "python",
   "pygments_lexer": "ipython2",
   "version": "2.7.10"
  }
 },
 "nbformat": 4,
 "nbformat_minor": 0
}
