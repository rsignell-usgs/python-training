{
 "cells": [
  {
   "cell_type": "markdown",
   "metadata": {},
   "source": [
    "#Testing Xray on weather forecast model data"
   ]
  },
  {
   "cell_type": "code",
   "execution_count": 4,
   "metadata": {
    "collapsed": false
   },
   "outputs": [],
   "source": [
    "import xray\n",
    "import datetime\n",
    "import matplotlib.pyplot as plt\n",
    "import numpy as np\n",
    "import pandas as pd\n",
    "%matplotlib inline"
   ]
  },
  {
   "cell_type": "code",
   "execution_count": 5,
   "metadata": {
    "collapsed": false
   },
   "outputs": [],
   "source": [
    "URL = 'http://thredds.ucar.edu/thredds/dodsC/grib/NCEP/GFS/Global_0p5deg/Best'"
   ]
  },
  {
   "cell_type": "code",
   "execution_count": 6,
   "metadata": {
    "collapsed": false
   },
   "outputs": [],
   "source": [
    "ds = xray.open_dataset(URL)"
   ]
  },
  {
   "cell_type": "code",
   "execution_count": 7,
   "metadata": {
    "collapsed": false
   },
   "outputs": [
    {
     "data": {
      "text/plain": [
       "<xray.Dataset>\n",
       "Dimensions:                                                                     (altitude_above_msl: 3, depth_below_surface_layer: 4, depth_below_surface_layer_bounds_1: 2, height_above_ground: 1, height_above_ground1: 2, height_above_ground2: 1, height_above_ground3: 3, height_above_ground4: 3, height_above_ground_layer: 1, height_above_ground_layer1: 1, height_above_ground_layer1_bounds_1: 2, height_above_ground_layer_bounds_1: 2, isobaric: 12, isobaric1: 1, isobaric2: 21, isobaric3: 26, lat: 361, lon: 720, potential_vorticity_surface: 2, pressure_difference_layer: 1, pressure_difference_layer1: 1, pressure_difference_layer1_bounds_1: 2, pressure_difference_layer2: 2, pressure_difference_layer2_bounds_1: 2, pressure_difference_layer_bounds_1: 2, sigma: 1, sigma_layer: 4, sigma_layer_bounds_1: 2, time: 205, time1: 204, time2: 204, time2_bounds_1: 2)\n",
       "Coordinates:\n",
       "  * lat                                                                         (lat) float32 90.0 ...\n",
       "  * lon                                                                         (lon) float32 0.0 ...\n",
       "  * time                                                                        (time) datetime64[ns] 2015-08-21 ...\n",
       "    reftime                                                                     (time) datetime64[ns] ...\n",
       "  * time1                                                                       (time1) datetime64[ns] 2015-08-21T03:00:00 ...\n",
       "    reftime1                                                                    (time1) datetime64[ns] ...\n",
       "  * time2                                                                       (time2) datetime64[ns] 2015-08-21T03:00:00 ...\n",
       "    reftime2                                                                    (time2) datetime64[ns] ...\n",
       "  * depth_below_surface_layer                                                   (depth_below_surface_layer) float32 0.05 ...\n",
       "  * isobaric                                                                    (isobaric) float32 1000.0 ...\n",
       "  * height_above_ground_layer                                                   (height_above_ground_layer) float32 1500.0 ...\n",
       "  * height_above_ground                                                         (height_above_ground) float32 2.0 ...\n",
       "  * potential_vorticity_surface                                                 (potential_vorticity_surface) float32 -2e-06 ...\n",
       "  * pressure_difference_layer                                                   (pressure_difference_layer) float32 1500.0 ...\n",
       "  * isobaric1                                                                   (isobaric1) float32 50000.0 ...\n",
       "  * height_above_ground1                                                        (height_above_ground1) float32 2.0 ...\n",
       "  * height_above_ground2                                                        (height_above_ground2) float32 80.0 ...\n",
       "  * isobaric2                                                                   (isobaric2) float32 10000.0 ...\n",
       "  * sigma                                                                       (sigma) float32 0.995 ...\n",
       "  * altitude_above_msl                                                          (altitude_above_msl) float32 1829.0 ...\n",
       "  * height_above_ground3                                                        (height_above_ground3) float32 10.0 ...\n",
       "  * height_above_ground_layer1                                                  (height_above_ground_layer1) float32 3000.0 ...\n",
       "  * pressure_difference_layer1                                                  (pressure_difference_layer1) float32 12750.0 ...\n",
       "  * isobaric3                                                                   (isobaric3) float32 1000.0 ...\n",
       "  * sigma_layer                                                                 (sigma_layer) float32 0.58 ...\n",
       "  * pressure_difference_layer2                                                  (pressure_difference_layer2) float32 9000.0 ...\n",
       "  * height_above_ground4                                                        (height_above_ground4) float32 2.0 ...\n",
       "  * depth_below_surface_layer_bounds_1                                          (depth_below_surface_layer_bounds_1) int64 0 ...\n",
       "  * height_above_ground_layer1_bounds_1                                         (height_above_ground_layer1_bounds_1) int64 0 ...\n",
       "  * height_above_ground_layer_bounds_1                                          (height_above_ground_layer_bounds_1) int64 0 ...\n",
       "  * pressure_difference_layer1_bounds_1                                         (pressure_difference_layer1_bounds_1) int64 0 ...\n",
       "  * pressure_difference_layer2_bounds_1                                         (pressure_difference_layer2_bounds_1) int64 0 ...\n",
       "  * pressure_difference_layer_bounds_1                                          (pressure_difference_layer_bounds_1) int64 0 ...\n",
       "  * sigma_layer_bounds_1                                                        (sigma_layer_bounds_1) int64 0 ...\n",
       "  * time2_bounds_1                                                              (time2_bounds_1) int64 0 ...\n",
       "Data variables:\n",
       "    LatLon_Projection                                                           int32 ...\n",
       "    time2_bounds                                                                (time2, time2_bounds_1) datetime64[ns] ...\n",
       "    depth_below_surface_layer_bounds                                            (depth_below_surface_layer, depth_below_surface_layer_bounds_1) float32 ...\n",
       "    height_above_ground_layer_bounds                                            (height_above_ground_layer, height_above_ground_layer_bounds_1) float32 ...\n",
       "    pressure_difference_layer_bounds                                            (pressure_difference_layer, pressure_difference_layer_bounds_1) float32 ...\n",
       "    height_above_ground_layer1_bounds                                           (height_above_ground_layer1, height_above_ground_layer1_bounds_1) float32 ...\n",
       "    pressure_difference_layer1_bounds                                           (pressure_difference_layer1, pressure_difference_layer1_bounds_1) float32 ...\n",
       "    sigma_layer_bounds                                                          (sigma_layer, sigma_layer_bounds_1) float32 ...\n",
       "    pressure_difference_layer2_bounds                                           (pressure_difference_layer2, pressure_difference_layer2_bounds_1) float32 ...\n",
       "    Total_ozone_entire_atmosphere_single_layer                                  (time, lat, lon) float64 ...\n",
       "    Ozone_Mixing_Ratio_isobaric                                                 (time, isobaric, lat, lon) float64 ...\n",
       "    Momentum_flux_u-component_surface_Mixed_intervals_Average                   (time2, lat, lon) float64 ...\n",
       "    Momentum_flux_v-component_surface_Mixed_intervals_Average                   (time2, lat, lon) float64 ...\n",
       "    Surface_Lifted_Index_surface                                                (time, lat, lon) float64 ...\n",
       "    Downward_Short-Wave_Radiation_Flux_surface_Mixed_intervals_Average          (time2, lat, lon) float64 ...\n",
       "    Downward_Long-Wave_Radp_Flux_surface_Mixed_intervals_Average                (time2, lat, lon) float64 ...\n",
       "    Pressure_middle_cloud_bottom_Mixed_intervals_Average                        (time2, lat, lon) float64 ...\n",
       "    Pressure_middle_cloud_top_Mixed_intervals_Average                           (time2, lat, lon) float64 ...\n",
       "    Pressure_convective_cloud_bottom                                            (time1, lat, lon) float64 ...\n",
       "    Pressure_convective_cloud_top                                               (time1, lat, lon) float64 ...\n",
       "    Pressure_low_cloud_bottom_Mixed_intervals_Average                           (time2, lat, lon) float64 ...\n",
       "    Pressure_low_cloud_top_Mixed_intervals_Average                              (time2, lat, lon) float64 ...\n",
       "    Ventilation_Rate_planetary_boundary                                         (time, lat, lon) float64 ...\n",
       "    Pressure_high_cloud_top_Mixed_intervals_Average                             (time2, lat, lon) float64 ...\n",
       "    Vertical_Speed_Shear_potential_vorticity_surface                            (time, potential_vorticity_surface, lat, lon) float64 ...\n",
       "    Pressure_high_cloud_bottom_Mixed_intervals_Average                          (time2, lat, lon) float64 ...\n",
       "    MSLP_Eta_model_reduction_msl                                                (time, lat, lon) float64 ...\n",
       "    Vertical_Speed_Shear_tropopause                                             (time, lat, lon) float64 ...\n",
       "    Wind_speed_gust_surface                                                     (time, lat, lon) float64 ...\n",
       "    Pressure_of_level_from_which_parcel_was_lifted_pressure_difference_layer    (time, pressure_difference_layer1, lat, lon) float64 ...\n",
       "    Temperature_middle_cloud_top_Mixed_intervals_Average                        (time2, lat, lon) float64 ...\n",
       "    Temperature_high_cloud_top_Mixed_intervals_Average                          (time2, lat, lon) float64 ...\n",
       "    Temperature_low_cloud_top_Mixed_intervals_Average                           (time2, lat, lon) float64 ...\n",
       "    Categorical_Rain_surface_Mixed_intervals_Average                            (time2, lat, lon) float64 ...\n",
       "    Potential_Evaporation_Rate_surface                                          (time1, lat, lon) float64 ...\n",
       "    Volumetric_Soil_Moisture_Content_depth_below_surface_layer                  (time, depth_below_surface_layer, lat, lon) float64 ...\n",
       "    Ice_cover_surface                                                           (time, lat, lon) float64 ...\n",
       "    Land_cover_0__sea_1__land_surface                                           (time, lat, lon) float64 ...\n",
       "    Pressure_surface                                                            (time, lat, lon) float64 ...\n",
       "    Specific_humidity_pressure_difference_layer                                 (time, pressure_difference_layer, lat, lon) float64 ...\n",
       "    Temperature_surface                                                         (time, lat, lon) float64 ...\n",
       "    Temperature_pressure_difference_layer                                       (time, pressure_difference_layer, lat, lon) float64 ...\n",
       "    Albedo_surface_Mixed_intervals_Average                                      (time2, lat, lon) float64 ...\n",
       "    Relative_humidity_sigma_layer                                               (time, sigma_layer, lat, lon) float64 ...\n",
       "    Relative_humidity_pressure_difference_layer                                 (time, pressure_difference_layer, lat, lon) float64 ...\n",
       "    Haines_Index_surface                                                        (time, lat, lon) float64 ...\n",
       "    Soil_temperature_depth_below_surface_layer                                  (time, depth_below_surface_layer, lat, lon) float64 ...\n",
       "    u-component_of_wind_pressure_difference_layer                               (time, pressure_difference_layer, lat, lon) float64 ...\n",
       "    v-component_of_wind_pressure_difference_layer                               (time, pressure_difference_layer, lat, lon) float64 ...\n",
       "    Geopotential_height_surface                                                 (time, lat, lon) float64 ...\n",
       "    Water_runoff_surface_Mixed_intervals_Accumulation                           (time2, lat, lon) float64 ...\n",
       "    Convective_available_potential_energy_surface                               (time, lat, lon) float64 ...\n",
       "    Convective_available_potential_energy_pressure_difference_layer             (time, pressure_difference_layer2, lat, lon) float64 ...\n",
       "    Convective_inhibition_pressure_difference_layer                             (time, pressure_difference_layer2, lat, lon) float64 ...\n",
       "    Convective_inhibition_surface                                               (time, lat, lon) float64 ...\n",
       "    Precipitation_rate_surface_Mixed_intervals_Average                          (time2, lat, lon) float64 ...\n",
       "    Storm_relative_helicity_height_above_ground_layer                           (time, height_above_ground_layer, lat, lon) float64 ...\n",
       "    Total_precipitation_surface_Mixed_intervals_Accumulation                    (time2, lat, lon) float64 ...\n",
       "    Convective_precipitation_surface_Mixed_intervals_Accumulation               (time2, lat, lon) float64 ...\n",
       "    Latent_heat_net_flux_surface_Mixed_intervals_Average                        (time2, lat, lon) float64 ...\n",
       "    Sensible_heat_net_flux_surface_Mixed_intervals_Average                      (time2, lat, lon) float64 ...\n",
       "    Snow_depth_surface                                                          (time, lat, lon) float64 ...\n",
       "    Water_equivalent_of_accumulated_snow_depth_surface                          (time, lat, lon) float64 ...\n",
       "    Total_cloud_cover_high_cloud_Mixed_intervals_Average                        (time2, lat, lon) float64 ...\n",
       "    Total_cloud_cover_convective_cloud                                          (time1, lat, lon) float64 ...\n",
       "    Total_cloud_cover_middle_cloud_Mixed_intervals_Average                      (time2, lat, lon) float64 ...\n",
       "    Total_cloud_cover_boundary_layer_cloud_Mixed_intervals_Average              (time2, lat, lon) float64 ...\n",
       "    Total_cloud_cover_low_cloud_Mixed_intervals_Average                         (time2, lat, lon) float64 ...\n",
       "    Cloud_Work_Function_entire_atmosphere_single_layer_Mixed_intervals_Average  (time2, lat, lon) float64 ...\n",
       "    Sunshine_Duration_surface                                                   (time, lat, lon) float64 ...\n",
       "    Best_4_layer_Lifted_Index_surface                                           (time, lat, lon) float64 ...\n",
       "    Upward_Short-Wave_Radiation_Flux_atmosphere_top_Mixed_intervals_Average     (time2, lat, lon) float64 ...\n",
       "    Upward_Short-Wave_Radiation_Flux_surface_Mixed_intervals_Average            (time2, lat, lon) float64 ...\n",
       "    Upward_Long-Wave_Radp_Flux_atmosphere_top_Mixed_intervals_Average           (time2, lat, lon) float64 ...\n",
       "    Upward_Long-Wave_Radp_Flux_surface_Mixed_intervals_Average                  (time2, lat, lon) float64 ...\n",
       "    5-Wave_Geopotential_Height_isobaric                                         (time, isobaric1, lat, lon) float64 ...\n",
       "    Relative_humidity_entire_atmosphere_single_layer                            (time, lat, lon) float64 ...\n",
       "    Relative_humidity_highest_tropospheric_freezing                             (time, lat, lon) float64 ...\n",
       "    Categorical_Freezing_Rain_surface_Mixed_intervals_Average                   (time2, lat, lon) float64 ...\n",
       "    Ground_Heat_Flux_surface_Mixed_intervals_Average                            (time2, lat, lon) float64 ...\n",
       "    Wilting_Point_surface                                                       (time, lat, lon) float64 ...\n",
       "    Per_cent_frozen_precipitation_surface                                       (time, lat, lon) float64 ...\n",
       "    Temperature_isobaric                                                        (time, isobaric3, lat, lon) float64 ...\n",
       "    Relative_humidity_isobaric                                                  (time, isobaric3, lat, lon) float64 ...\n",
       "    Relative_humidity_zeroDegC_isotherm                                         (time, lat, lon) float64 ...\n",
       "    u-component_of_wind_isobaric                                                (time, isobaric3, lat, lon) float64 ...\n",
       "    v-component_of_wind_isobaric                                                (time, isobaric3, lat, lon) float64 ...\n",
       "    Geopotential_height_isobaric                                                (time, isobaric3, lat, lon) float64 ...\n",
       "    Geopotential_height_zeroDegC_isotherm                                       (time, lat, lon) float64 ...\n",
       "    U-Component_Storm_Motion_height_above_ground_layer                          (time, height_above_ground_layer1, lat, lon) float64 ...\n",
       "    Zonal_Flux_of_Gravity_Wave_Stress_surface_Mixed_intervals_Average           (time2, lat, lon) float64 ...\n",
       "    u-component_of_wind_planetary_boundary                                      (time, lat, lon) float64 ...\n",
       "    Categorical_Ice_Pellets_surface_Mixed_intervals_Average                     (time2, lat, lon) float64 ...\n",
       "    Vertical_velocity_pressure_isobaric                                         (time, isobaric2, lat, lon) float64 ...\n",
       "    Absolute_vorticity_isobaric                                                 (time, isobaric3, lat, lon) float64 ...\n",
       "    Pressure_reduced_to_MSL_msl                                                 (time, lat, lon) float64 ...\n",
       "    Cloud_mixing_ratio_isobaric                                                 (time, isobaric2, lat, lon) float64 ...\n",
       "    Pressure_maximum_wind                                                       (time, lat, lon) float64 ...\n",
       "    Temperature_altitude_above_msl                                              (time, altitude_above_msl, lat, lon) float64 ...\n",
       "    Temperature_maximum_wind                                                    (time, lat, lon) float64 ...\n",
       "    u-component_of_wind_altitude_above_msl                                      (time, altitude_above_msl, lat, lon) float64 ...\n",
       "    u-component_of_wind_maximum_wind                                            (time, lat, lon) float64 ...\n",
       "    ICAO_Standard_Atmosphere_Reference_Height_maximum_wind                      (time, lat, lon) float64 ...\n",
       "    v-component_of_wind_maximum_wind                                            (time, lat, lon) float64 ...\n",
       "    v-component_of_wind_altitude_above_msl                                      (time, altitude_above_msl, lat, lon) float64 ...\n",
       "    Apparent_temperature_height_above_ground                                    (time, height_above_ground, lat, lon) float64 ...\n",
       "    Geopotential_height_maximum_wind                                            (time, lat, lon) float64 ...\n",
       "    V-Component_Storm_Motion_height_above_ground_layer                          (time, height_above_ground_layer1, lat, lon) float64 ...\n",
       "    Meridional_Flux_of_Gravity_Wave_Stress_surface_Mixed_intervals_Average      (time2, lat, lon) float64 ...\n",
       "    Field_Capacity_surface                                                      (time, lat, lon) float64 ...\n",
       "    v-component_of_wind_planetary_boundary                                      (time, lat, lon) float64 ...\n",
       "    Precipitable_water_entire_atmosphere_single_layer                           (time, lat, lon) float64 ...\n",
       "    Categorical_Snow_surface_Mixed_intervals_Average                            (time2, lat, lon) float64 ...\n",
       "    Pressure_height_above_ground                                                (time, height_above_ground2, lat, lon) float64 ...\n",
       "    Pressure_tropopause                                                         (time, lat, lon) float64 ...\n",
       "    Specific_humidity_height_above_ground                                       (time, height_above_ground1, lat, lon) float64 ...\n",
       "    Temperature_height_above_ground                                             (time, height_above_ground4, lat, lon) float64 ...\n",
       "    Temperature_tropopause                                                      (time, lat, lon) float64 ...\n",
       "    Relative_humidity_height_above_ground                                       (time, height_above_ground, lat, lon) float64 ...\n",
       "    u-component_of_wind_height_above_ground                                     (time, height_above_ground3, lat, lon) float64 ...\n",
       "    u-component_of_wind_tropopause                                              (time, lat, lon) float64 ...\n",
       "    ICAO_Standard_Atmosphere_Reference_Height_tropopause                        (time, lat, lon) float64 ...\n",
       "    v-component_of_wind_height_above_ground                                     (time, height_above_ground3, lat, lon) float64 ...\n",
       "    v-component_of_wind_tropopause                                              (time, lat, lon) float64 ...\n",
       "    Maximum_temperature_height_above_ground_Mixed_intervals_Maximum             (time2, height_above_ground, lat, lon) float64 ...\n",
       "    Geopotential_height_tropopause                                              (time, lat, lon) float64 ...\n",
       "    Minimum_temperature_height_above_ground_Mixed_intervals_Minimum             (time2, height_above_ground, lat, lon) float64 ...\n",
       "    Dewpoint_temperature_height_above_ground                                    (time, height_above_ground, lat, lon) float64 ...\n",
       "    Temperature_sigma                                                           (time, sigma, lat, lon) float64 ...\n",
       "    Relative_humidity_sigma                                                     (time, sigma, lat, lon) float64 ...\n",
       "    Potential_temperature_sigma                                                 (time, sigma, lat, lon) float64 ...\n",
       "    u-component_of_wind_sigma                                                   (time, sigma, lat, lon) float64 ...\n",
       "    v-component_of_wind_sigma                                                   (time, sigma, lat, lon) float64 ...\n",
       "    Planetary_Boundary_Layer_Height_surface                                     (time, lat, lon) float64 ...\n",
       "    Convective_Precipitation_Rate_surface_Mixed_intervals_Average               (time2, lat, lon) float64 ...\n",
       "    Vertical_velocity_pressure_sigma                                            (time, sigma, lat, lon) float64 ...\n",
       "    Total_cloud_cover_entire_atmosphere_Mixed_intervals_Average                 (time2, lat, lon) float64 ...\n",
       "    Geopotential_height_highest_tropospheric_freezing                           (time, lat, lon) float64 ...\n",
       "    Cloud_water_entire_atmosphere_single_layer                                  (time, lat, lon) float64 ...\n",
       "    Pressure_potential_vorticity_surface                                        (time, potential_vorticity_surface, lat, lon) float64 ...\n",
       "    Temperature_potential_vorticity_surface                                     (time, potential_vorticity_surface, lat, lon) float64 ...\n",
       "    u-component_of_wind_potential_vorticity_surface                             (time, potential_vorticity_surface, lat, lon) float64 ...\n",
       "    v-component_of_wind_potential_vorticity_surface                             (time, potential_vorticity_surface, lat, lon) float64 ...\n",
       "    Geopotential_height_potential_vorticity_surface                             (time, potential_vorticity_surface, lat, lon) float64 ...\n",
       "Attributes:\n",
       "    Originating_or_generating_Center: US National Weather Service, National Centres for Environmental Prediction (NCEP)\n",
       "    Originating_or_generating_Subcenter: 0\n",
       "    GRIB_table_version: 2,1\n",
       "    Type_of_generating_process: Forecast\n",
       "    Analysis_or_forecast_generating_process_identifier_defined_by_originating_centre: Analysis from GFS (Global Forecast System)\n",
       "    file_format: GRIB-2\n",
       "    Conventions: CF-1.6\n",
       "    history: Read using CDM IOSP GribCollection v3\n",
       "    featureType: GRID\n",
       "    _CoordSysBuilder: ucar.nc2.dataset.conv.CF1Convention"
      ]
     },
     "execution_count": 7,
     "metadata": {},
     "output_type": "execute_result"
    }
   ],
   "source": [
    "ds"
   ]
  },
  {
   "cell_type": "code",
   "execution_count": 8,
   "metadata": {
    "collapsed": false
   },
   "outputs": [],
   "source": [
    "# select lat,lon region of interest\n",
    "# note: slice(20.5,55.0) fails\n",
    "dsloc = ds.sel(lon=slice(230.5,300.0),lat=slice(55.0,20.5))"
   ]
  },
  {
   "cell_type": "code",
   "execution_count": 9,
   "metadata": {
    "collapsed": false
   },
   "outputs": [],
   "source": [
    "# select closest data to time of interest\n",
    "#date = datetime.datetime(2015,7,15,3,0,0)\n",
    "date = datetime.datetime.now()\n",
    "ds_snapshot = dsloc.sel(time=date,time1=date,time2=date,method='nearest')"
   ]
  },
  {
   "cell_type": "code",
   "execution_count": 10,
   "metadata": {
    "collapsed": false
   },
   "outputs": [
    {
     "data": {
      "text/plain": [
       "Data variables:\n",
       "    LatLon_Projection                                                           int32 ...\n",
       "    time2_bounds                                                                (time2, time2_bounds_1) datetime64[ns] ...\n",
       "    depth_below_surface_layer_bounds                                            (depth_below_surface_layer, depth_below_surface_layer_bounds_1) float32 ...\n",
       "    height_above_ground_layer_bounds                                            (height_above_ground_layer, height_above_ground_layer_bounds_1) float32 ...\n",
       "    pressure_difference_layer_bounds                                            (pressure_difference_layer, pressure_difference_layer_bounds_1) float32 ...\n",
       "    height_above_ground_layer1_bounds                                           (height_above_ground_layer1, height_above_ground_layer1_bounds_1) float32 ...\n",
       "    pressure_difference_layer1_bounds                                           (pressure_difference_layer1, pressure_difference_layer1_bounds_1) float32 ...\n",
       "    sigma_layer_bounds                                                          (sigma_layer, sigma_layer_bounds_1) float32 ...\n",
       "    pressure_difference_layer2_bounds                                           (pressure_difference_layer2, pressure_difference_layer2_bounds_1) float32 ...\n",
       "    Total_ozone_entire_atmosphere_single_layer                                  (time, lat, lon) float64 ...\n",
       "    Ozone_Mixing_Ratio_isobaric                                                 (time, isobaric, lat, lon) float64 ...\n",
       "    Momentum_flux_u-component_surface_Mixed_intervals_Average                   (time2, lat, lon) float64 ...\n",
       "    Momentum_flux_v-component_surface_Mixed_intervals_Average                   (time2, lat, lon) float64 ...\n",
       "    Surface_Lifted_Index_surface                                                (time, lat, lon) float64 ...\n",
       "    Downward_Short-Wave_Radiation_Flux_surface_Mixed_intervals_Average          (time2, lat, lon) float64 ...\n",
       "    Downward_Long-Wave_Radp_Flux_surface_Mixed_intervals_Average                (time2, lat, lon) float64 ...\n",
       "    Pressure_middle_cloud_bottom_Mixed_intervals_Average                        (time2, lat, lon) float64 ...\n",
       "    Pressure_middle_cloud_top_Mixed_intervals_Average                           (time2, lat, lon) float64 ...\n",
       "    Pressure_convective_cloud_bottom                                            (time1, lat, lon) float64 ...\n",
       "    Pressure_convective_cloud_top                                               (time1, lat, lon) float64 ...\n",
       "    Pressure_low_cloud_bottom_Mixed_intervals_Average                           (time2, lat, lon) float64 ...\n",
       "    Pressure_low_cloud_top_Mixed_intervals_Average                              (time2, lat, lon) float64 ...\n",
       "    Ventilation_Rate_planetary_boundary                                         (time, lat, lon) float64 ...\n",
       "    Pressure_high_cloud_top_Mixed_intervals_Average                             (time2, lat, lon) float64 ...\n",
       "    Vertical_Speed_Shear_potential_vorticity_surface                            (time, potential_vorticity_surface, lat, lon) float64 ...\n",
       "    Pressure_high_cloud_bottom_Mixed_intervals_Average                          (time2, lat, lon) float64 ...\n",
       "    MSLP_Eta_model_reduction_msl                                                (time, lat, lon) float64 ...\n",
       "    Vertical_Speed_Shear_tropopause                                             (time, lat, lon) float64 ...\n",
       "    Wind_speed_gust_surface                                                     (time, lat, lon) float64 ...\n",
       "    Pressure_of_level_from_which_parcel_was_lifted_pressure_difference_layer    (time, pressure_difference_layer1, lat, lon) float64 ...\n",
       "    Temperature_middle_cloud_top_Mixed_intervals_Average                        (time2, lat, lon) float64 ...\n",
       "    Temperature_high_cloud_top_Mixed_intervals_Average                          (time2, lat, lon) float64 ...\n",
       "    Temperature_low_cloud_top_Mixed_intervals_Average                           (time2, lat, lon) float64 ...\n",
       "    Categorical_Rain_surface_Mixed_intervals_Average                            (time2, lat, lon) float64 ...\n",
       "    Potential_Evaporation_Rate_surface                                          (time1, lat, lon) float64 ...\n",
       "    Volumetric_Soil_Moisture_Content_depth_below_surface_layer                  (time, depth_below_surface_layer, lat, lon) float64 ...\n",
       "    Ice_cover_surface                                                           (time, lat, lon) float64 ...\n",
       "    Land_cover_0__sea_1__land_surface                                           (time, lat, lon) float64 ...\n",
       "    Pressure_surface                                                            (time, lat, lon) float64 ...\n",
       "    Specific_humidity_pressure_difference_layer                                 (time, pressure_difference_layer, lat, lon) float64 ...\n",
       "    Temperature_surface                                                         (time, lat, lon) float64 ...\n",
       "    Temperature_pressure_difference_layer                                       (time, pressure_difference_layer, lat, lon) float64 ...\n",
       "    Albedo_surface_Mixed_intervals_Average                                      (time2, lat, lon) float64 ...\n",
       "    Relative_humidity_sigma_layer                                               (time, sigma_layer, lat, lon) float64 ...\n",
       "    Relative_humidity_pressure_difference_layer                                 (time, pressure_difference_layer, lat, lon) float64 ...\n",
       "    Haines_Index_surface                                                        (time, lat, lon) float64 ...\n",
       "    Soil_temperature_depth_below_surface_layer                                  (time, depth_below_surface_layer, lat, lon) float64 ...\n",
       "    u-component_of_wind_pressure_difference_layer                               (time, pressure_difference_layer, lat, lon) float64 ...\n",
       "    v-component_of_wind_pressure_difference_layer                               (time, pressure_difference_layer, lat, lon) float64 ...\n",
       "    Geopotential_height_surface                                                 (time, lat, lon) float64 ...\n",
       "    Water_runoff_surface_Mixed_intervals_Accumulation                           (time2, lat, lon) float64 ...\n",
       "    Convective_available_potential_energy_surface                               (time, lat, lon) float64 ...\n",
       "    Convective_available_potential_energy_pressure_difference_layer             (time, pressure_difference_layer2, lat, lon) float64 ...\n",
       "    Convective_inhibition_pressure_difference_layer                             (time, pressure_difference_layer2, lat, lon) float64 ...\n",
       "    Convective_inhibition_surface                                               (time, lat, lon) float64 ...\n",
       "    Precipitation_rate_surface_Mixed_intervals_Average                          (time2, lat, lon) float64 ...\n",
       "    Storm_relative_helicity_height_above_ground_layer                           (time, height_above_ground_layer, lat, lon) float64 ...\n",
       "    Total_precipitation_surface_Mixed_intervals_Accumulation                    (time2, lat, lon) float64 ...\n",
       "    Convective_precipitation_surface_Mixed_intervals_Accumulation               (time2, lat, lon) float64 ...\n",
       "    Latent_heat_net_flux_surface_Mixed_intervals_Average                        (time2, lat, lon) float64 ...\n",
       "    Sensible_heat_net_flux_surface_Mixed_intervals_Average                      (time2, lat, lon) float64 ...\n",
       "    Snow_depth_surface                                                          (time, lat, lon) float64 ...\n",
       "    Water_equivalent_of_accumulated_snow_depth_surface                          (time, lat, lon) float64 ...\n",
       "    Total_cloud_cover_high_cloud_Mixed_intervals_Average                        (time2, lat, lon) float64 ...\n",
       "    Total_cloud_cover_convective_cloud                                          (time1, lat, lon) float64 ...\n",
       "    Total_cloud_cover_middle_cloud_Mixed_intervals_Average                      (time2, lat, lon) float64 ...\n",
       "    Total_cloud_cover_boundary_layer_cloud_Mixed_intervals_Average              (time2, lat, lon) float64 ...\n",
       "    Total_cloud_cover_low_cloud_Mixed_intervals_Average                         (time2, lat, lon) float64 ...\n",
       "    Cloud_Work_Function_entire_atmosphere_single_layer_Mixed_intervals_Average  (time2, lat, lon) float64 ...\n",
       "    Sunshine_Duration_surface                                                   (time, lat, lon) float64 ...\n",
       "    Best_4_layer_Lifted_Index_surface                                           (time, lat, lon) float64 ...\n",
       "    Upward_Short-Wave_Radiation_Flux_atmosphere_top_Mixed_intervals_Average     (time2, lat, lon) float64 ...\n",
       "    Upward_Short-Wave_Radiation_Flux_surface_Mixed_intervals_Average            (time2, lat, lon) float64 ...\n",
       "    Upward_Long-Wave_Radp_Flux_atmosphere_top_Mixed_intervals_Average           (time2, lat, lon) float64 ...\n",
       "    Upward_Long-Wave_Radp_Flux_surface_Mixed_intervals_Average                  (time2, lat, lon) float64 ...\n",
       "    5-Wave_Geopotential_Height_isobaric                                         (time, isobaric1, lat, lon) float64 ...\n",
       "    Relative_humidity_entire_atmosphere_single_layer                            (time, lat, lon) float64 ...\n",
       "    Relative_humidity_highest_tropospheric_freezing                             (time, lat, lon) float64 ...\n",
       "    Categorical_Freezing_Rain_surface_Mixed_intervals_Average                   (time2, lat, lon) float64 ...\n",
       "    Ground_Heat_Flux_surface_Mixed_intervals_Average                            (time2, lat, lon) float64 ...\n",
       "    Wilting_Point_surface                                                       (time, lat, lon) float64 ...\n",
       "    Per_cent_frozen_precipitation_surface                                       (time, lat, lon) float64 ...\n",
       "    Temperature_isobaric                                                        (time, isobaric3, lat, lon) float64 ...\n",
       "    Relative_humidity_isobaric                                                  (time, isobaric3, lat, lon) float64 ...\n",
       "    Relative_humidity_zeroDegC_isotherm                                         (time, lat, lon) float64 ...\n",
       "    u-component_of_wind_isobaric                                                (time, isobaric3, lat, lon) float64 ...\n",
       "    v-component_of_wind_isobaric                                                (time, isobaric3, lat, lon) float64 ...\n",
       "    Geopotential_height_isobaric                                                (time, isobaric3, lat, lon) float64 ...\n",
       "    Geopotential_height_zeroDegC_isotherm                                       (time, lat, lon) float64 ...\n",
       "    U-Component_Storm_Motion_height_above_ground_layer                          (time, height_above_ground_layer1, lat, lon) float64 ...\n",
       "    Zonal_Flux_of_Gravity_Wave_Stress_surface_Mixed_intervals_Average           (time2, lat, lon) float64 ...\n",
       "    u-component_of_wind_planetary_boundary                                      (time, lat, lon) float64 ...\n",
       "    Categorical_Ice_Pellets_surface_Mixed_intervals_Average                     (time2, lat, lon) float64 ...\n",
       "    Vertical_velocity_pressure_isobaric                                         (time, isobaric2, lat, lon) float64 ...\n",
       "    Absolute_vorticity_isobaric                                                 (time, isobaric3, lat, lon) float64 ...\n",
       "    Pressure_reduced_to_MSL_msl                                                 (time, lat, lon) float64 ...\n",
       "    Cloud_mixing_ratio_isobaric                                                 (time, isobaric2, lat, lon) float64 ...\n",
       "    Pressure_maximum_wind                                                       (time, lat, lon) float64 ...\n",
       "    Temperature_altitude_above_msl                                              (time, altitude_above_msl, lat, lon) float64 ...\n",
       "    Temperature_maximum_wind                                                    (time, lat, lon) float64 ...\n",
       "    u-component_of_wind_altitude_above_msl                                      (time, altitude_above_msl, lat, lon) float64 ...\n",
       "    u-component_of_wind_maximum_wind                                            (time, lat, lon) float64 ...\n",
       "    ICAO_Standard_Atmosphere_Reference_Height_maximum_wind                      (time, lat, lon) float64 ...\n",
       "    v-component_of_wind_maximum_wind                                            (time, lat, lon) float64 ...\n",
       "    v-component_of_wind_altitude_above_msl                                      (time, altitude_above_msl, lat, lon) float64 ...\n",
       "    Apparent_temperature_height_above_ground                                    (time, height_above_ground, lat, lon) float64 ...\n",
       "    Geopotential_height_maximum_wind                                            (time, lat, lon) float64 ...\n",
       "    V-Component_Storm_Motion_height_above_ground_layer                          (time, height_above_ground_layer1, lat, lon) float64 ...\n",
       "    Meridional_Flux_of_Gravity_Wave_Stress_surface_Mixed_intervals_Average      (time2, lat, lon) float64 ...\n",
       "    Field_Capacity_surface                                                      (time, lat, lon) float64 ...\n",
       "    v-component_of_wind_planetary_boundary                                      (time, lat, lon) float64 ...\n",
       "    Precipitable_water_entire_atmosphere_single_layer                           (time, lat, lon) float64 ...\n",
       "    Categorical_Snow_surface_Mixed_intervals_Average                            (time2, lat, lon) float64 ...\n",
       "    Pressure_height_above_ground                                                (time, height_above_ground2, lat, lon) float64 ...\n",
       "    Pressure_tropopause                                                         (time, lat, lon) float64 ...\n",
       "    Specific_humidity_height_above_ground                                       (time, height_above_ground1, lat, lon) float64 ...\n",
       "    Temperature_height_above_ground                                             (time, height_above_ground4, lat, lon) float64 ...\n",
       "    Temperature_tropopause                                                      (time, lat, lon) float64 ...\n",
       "    Relative_humidity_height_above_ground                                       (time, height_above_ground, lat, lon) float64 ...\n",
       "    u-component_of_wind_height_above_ground                                     (time, height_above_ground3, lat, lon) float64 ...\n",
       "    u-component_of_wind_tropopause                                              (time, lat, lon) float64 ...\n",
       "    ICAO_Standard_Atmosphere_Reference_Height_tropopause                        (time, lat, lon) float64 ...\n",
       "    v-component_of_wind_height_above_ground                                     (time, height_above_ground3, lat, lon) float64 ...\n",
       "    v-component_of_wind_tropopause                                              (time, lat, lon) float64 ...\n",
       "    Maximum_temperature_height_above_ground_Mixed_intervals_Maximum             (time2, height_above_ground, lat, lon) float64 ...\n",
       "    Geopotential_height_tropopause                                              (time, lat, lon) float64 ...\n",
       "    Minimum_temperature_height_above_ground_Mixed_intervals_Minimum             (time2, height_above_ground, lat, lon) float64 ...\n",
       "    Dewpoint_temperature_height_above_ground                                    (time, height_above_ground, lat, lon) float64 ...\n",
       "    Temperature_sigma                                                           (time, sigma, lat, lon) float64 ...\n",
       "    Relative_humidity_sigma                                                     (time, sigma, lat, lon) float64 ...\n",
       "    Potential_temperature_sigma                                                 (time, sigma, lat, lon) float64 ...\n",
       "    u-component_of_wind_sigma                                                   (time, sigma, lat, lon) float64 ...\n",
       "    v-component_of_wind_sigma                                                   (time, sigma, lat, lon) float64 ...\n",
       "    Planetary_Boundary_Layer_Height_surface                                     (time, lat, lon) float64 ...\n",
       "    Convective_Precipitation_Rate_surface_Mixed_intervals_Average               (time2, lat, lon) float64 ...\n",
       "    Vertical_velocity_pressure_sigma                                            (time, sigma, lat, lon) float64 ...\n",
       "    Total_cloud_cover_entire_atmosphere_Mixed_intervals_Average                 (time2, lat, lon) float64 ...\n",
       "    Geopotential_height_highest_tropospheric_freezing                           (time, lat, lon) float64 ...\n",
       "    Cloud_water_entire_atmosphere_single_layer                                  (time, lat, lon) float64 ...\n",
       "    Pressure_potential_vorticity_surface                                        (time, potential_vorticity_surface, lat, lon) float64 ...\n",
       "    Temperature_potential_vorticity_surface                                     (time, potential_vorticity_surface, lat, lon) float64 ...\n",
       "    u-component_of_wind_potential_vorticity_surface                             (time, potential_vorticity_surface, lat, lon) float64 ...\n",
       "    v-component_of_wind_potential_vorticity_surface                             (time, potential_vorticity_surface, lat, lon) float64 ...\n",
       "    Geopotential_height_potential_vorticity_surface                             (time, potential_vorticity_surface, lat, lon) float64 ..."
      ]
     },
     "execution_count": 10,
     "metadata": {},
     "output_type": "execute_result"
    }
   ],
   "source": [
    "ds.data_vars"
   ]
  },
  {
   "cell_type": "code",
   "execution_count": 11,
   "metadata": {
    "collapsed": false
   },
   "outputs": [
    {
     "data": {
      "text/plain": [
       "Coordinates:\n",
       "  * lat                                  (lat) float32 90.0 89.5 89.0 88.5 ...\n",
       "  * lon                                  (lon) float32 0.0 0.5 1.0 1.5 2.0 ...\n",
       "  * time                                 (time) datetime64[ns] 2015-08-21 ...\n",
       "    reftime                              (time) datetime64[ns] ...\n",
       "  * time1                                (time1) datetime64[ns] 2015-08-21T03:00:00 ...\n",
       "    reftime1                             (time1) datetime64[ns] ...\n",
       "  * time2                                (time2) datetime64[ns] 2015-08-21T03:00:00 ...\n",
       "    reftime2                             (time2) datetime64[ns] ...\n",
       "  * depth_below_surface_layer            (depth_below_surface_layer) float32 0.05 ...\n",
       "  * isobaric                             (isobaric) float32 1000.0 2000.0 ...\n",
       "  * height_above_ground_layer            (height_above_ground_layer) float32 1500.0 ...\n",
       "  * height_above_ground                  (height_above_ground) float32 2.0\n",
       "  * potential_vorticity_surface          (potential_vorticity_surface) float32 -2e-06 ...\n",
       "  * pressure_difference_layer            (pressure_difference_layer) float32 1500.0 ...\n",
       "  * isobaric1                            (isobaric1) float32 50000.0\n",
       "  * height_above_ground1                 (height_above_ground1) float32 2.0 80.0\n",
       "  * height_above_ground2                 (height_above_ground2) float32 80.0\n",
       "  * isobaric2                            (isobaric2) float32 10000.0 15000.0 ...\n",
       "  * sigma                                (sigma) float32 0.995\n",
       "  * altitude_above_msl                   (altitude_above_msl) float32 1829.0 ...\n",
       "  * height_above_ground3                 (height_above_ground3) float32 10.0 ...\n",
       "  * height_above_ground_layer1           (height_above_ground_layer1) float32 3000.0 ...\n",
       "  * pressure_difference_layer1           (pressure_difference_layer1) float32 12750.0 ...\n",
       "  * isobaric3                            (isobaric3) float32 1000.0 2000.0 ...\n",
       "  * sigma_layer                          (sigma_layer) float32 0.58 0.665 ...\n",
       "  * pressure_difference_layer2           (pressure_difference_layer2) float32 9000.0 ...\n",
       "  * height_above_ground4                 (height_above_ground4) float32 2.0 ...\n",
       "  * depth_below_surface_layer_bounds_1   (depth_below_surface_layer_bounds_1) int64 0 ...\n",
       "  * height_above_ground_layer1_bounds_1  (height_above_ground_layer1_bounds_1) int64 0 ...\n",
       "  * height_above_ground_layer_bounds_1   (height_above_ground_layer_bounds_1) int64 0 ...\n",
       "  * pressure_difference_layer1_bounds_1  (pressure_difference_layer1_bounds_1) int64 0 ...\n",
       "  * pressure_difference_layer2_bounds_1  (pressure_difference_layer2_bounds_1) int64 0 ...\n",
       "  * pressure_difference_layer_bounds_1   (pressure_difference_layer_bounds_1) int64 0 ...\n",
       "  * sigma_layer_bounds_1                 (sigma_layer_bounds_1) int64 0 1\n",
       "  * time2_bounds_1                       (time2_bounds_1) int64 0 1"
      ]
     },
     "execution_count": 11,
     "metadata": {},
     "output_type": "execute_result"
    }
   ],
   "source": [
    "ds.coords"
   ]
  },
  {
   "cell_type": "code",
   "execution_count": 12,
   "metadata": {
    "collapsed": false
   },
   "outputs": [
    {
     "data": {
      "text/plain": [
       "OrderedDict([(u'Originating_or_generating_Center', u'US National Weather Service, National Centres for Environmental Prediction (NCEP)'), (u'Originating_or_generating_Subcenter', u'0'), (u'GRIB_table_version', u'2,1'), (u'Type_of_generating_process', u'Forecast'), (u'Analysis_or_forecast_generating_process_identifier_defined_by_originating_centre', u'Analysis from GFS (Global Forecast System)'), (u'file_format', u'GRIB-2'), (u'Conventions', u'CF-1.6'), (u'history', u'Read using CDM IOSP GribCollection v3'), (u'featureType', u'GRID'), (u'_CoordSysBuilder', u'ucar.nc2.dataset.conv.CF1Convention')])"
      ]
     },
     "execution_count": 12,
     "metadata": {},
     "output_type": "execute_result"
    }
   ],
   "source": [
    "ds.attrs"
   ]
  },
  {
   "cell_type": "code",
   "execution_count": 13,
   "metadata": {
    "collapsed": false
   },
   "outputs": [],
   "source": [
    "t = ds_snapshot['Temperature_surface']"
   ]
  },
  {
   "cell_type": "code",
   "execution_count": 14,
   "metadata": {
    "collapsed": false
   },
   "outputs": [
    {
     "data": {
      "text/plain": [
       "(70, 140)"
      ]
     },
     "execution_count": 14,
     "metadata": {},
     "output_type": "execute_result"
    }
   ],
   "source": [
    "t.shape"
   ]
  },
  {
   "cell_type": "code",
   "execution_count": 15,
   "metadata": {
    "collapsed": false
   },
   "outputs": [
    {
     "data": {
      "image/png": "[encoded data removed]",
      "text/plain": [
       "<matplotlib.figure.Figure at 0x10bb2780>"
      ]
     },
     "metadata": {},
     "output_type": "display_data"
    }
   ],
   "source": [
    "plt.pcolormesh(t.lon.data,t.lat.data,t.data)\n",
    "plt.title(t.name+pd.Timestamp(t.time.values).strftime(': %Y-%m-%d  %H:%M:%S %Z %z'));"
   ]
  },
  {
   "cell_type": "code",
   "execution_count": 16,
   "metadata": {
    "collapsed": false
   },
   "outputs": [],
   "source": [
    "# time series closest to specified lon,lat location\n",
    "ds_series = ds.sel(lon=250.,lat=33.,method='nearest')"
   ]
  },
  {
   "cell_type": "code",
   "execution_count": 17,
   "metadata": {
    "collapsed": false
   },
   "outputs": [],
   "source": [
    "# Select temperature and convert to Pandas Series\n",
    "v_series = ds_series['Temperature_surface'].to_series()"
   ]
  },
  {
   "cell_type": "code",
   "execution_count": 18,
   "metadata": {
    "collapsed": false
   },
   "outputs": [
    {
     "data": {
      "image/png": "[encoded data removed]",
      "text/plain": [
       "<matplotlib.figure.Figure at 0x10b22470>"
      ]
     },
     "metadata": {},
     "output_type": "display_data"
    }
   ],
   "source": [
    "v_series.plot(title=v_series.name);"
   ]
  },
  {
   "cell_type": "code",
   "execution_count": 19,
   "metadata": {
    "collapsed": false
   },
   "outputs": [
    {
     "data": {
      "text/plain": [
       "<xray.Dataset>\n",
       "Dimensions:                                                                     (altitude_above_msl: 3, depth_below_surface_layer: 4, depth_below_surface_layer_bounds_1: 2, height_above_ground: 1, height_above_ground1: 2, height_above_ground2: 1, height_above_ground3: 3, height_above_ground4: 3, height_above_ground_layer: 1, height_above_ground_layer1: 1, height_above_ground_layer1_bounds_1: 2, height_above_ground_layer_bounds_1: 2, isobaric: 12, isobaric1: 1, isobaric2: 21, isobaric3: 26, lat: 70, lon: 140, potential_vorticity_surface: 2, pressure_difference_layer: 1, pressure_difference_layer1: 1, pressure_difference_layer1_bounds_1: 2, pressure_difference_layer2: 2, pressure_difference_layer2_bounds_1: 2, pressure_difference_layer_bounds_1: 2, sigma: 1, sigma_layer: 4, sigma_layer_bounds_1: 2, time2_bounds_1: 2)\n",
       "Coordinates:\n",
       "  * lat                                                                         (lat) float32 55.0 ...\n",
       "  * lon                                                                         (lon) float32 230.5 ...\n",
       "    time                                                                        datetime64[ns] 2015-09-04T06:00:00 ...\n",
       "    reftime                                                                     datetime64[ns] 2015-09-04 ...\n",
       "    time1                                                                       datetime64[ns] 2015-09-04T06:00:00 ...\n",
       "    reftime1                                                                    datetime64[ns] 2015-09-04 ...\n",
       "    time2                                                                       datetime64[ns] 2015-09-04T06:00:00 ...\n",
       "    reftime2                                                                    datetime64[ns] 2015-09-04 ...\n",
       "  * depth_below_surface_layer                                                   (depth_below_surface_layer) float32 0.05 ...\n",
       "  * isobaric                                                                    (isobaric) float32 1000.0 ...\n",
       "  * height_above_ground_layer                                                   (height_above_ground_layer) float32 1500.0 ...\n",
       "  * height_above_ground                                                         (height_above_ground) float32 2.0 ...\n",
       "  * potential_vorticity_surface                                                 (potential_vorticity_surface) float32 -2e-06 ...\n",
       "  * pressure_difference_layer                                                   (pressure_difference_layer) float32 1500.0 ...\n",
       "  * isobaric1                                                                   (isobaric1) float32 50000.0 ...\n",
       "  * height_above_ground1                                                        (height_above_ground1) float32 2.0 ...\n",
       "  * height_above_ground2                                                        (height_above_ground2) float32 80.0 ...\n",
       "  * isobaric2                                                                   (isobaric2) float32 10000.0 ...\n",
       "  * sigma                                                                       (sigma) float32 0.995 ...\n",
       "  * altitude_above_msl                                                          (altitude_above_msl) float32 1829.0 ...\n",
       "  * height_above_ground3                                                        (height_above_ground3) float32 10.0 ...\n",
       "  * height_above_ground_layer1                                                  (height_above_ground_layer1) float32 3000.0 ...\n",
       "  * pressure_difference_layer1                                                  (pressure_difference_layer1) float32 12750.0 ...\n",
       "  * isobaric3                                                                   (isobaric3) float32 1000.0 ...\n",
       "  * sigma_layer                                                                 (sigma_layer) float32 0.58 ...\n",
       "  * pressure_difference_layer2                                                  (pressure_difference_layer2) float32 9000.0 ...\n",
       "  * height_above_ground4                                                        (height_above_ground4) float32 2.0 ...\n",
       "  * depth_below_surface_layer_bounds_1                                          (depth_below_surface_layer_bounds_1) int32 0 ...\n",
       "  * height_above_ground_layer1_bounds_1                                         (height_above_ground_layer1_bounds_1) int32 0 ...\n",
       "  * height_above_ground_layer_bounds_1                                          (height_above_ground_layer_bounds_1) int32 0 ...\n",
       "  * pressure_difference_layer1_bounds_1                                         (pressure_difference_layer1_bounds_1) int32 0 ...\n",
       "  * pressure_difference_layer2_bounds_1                                         (pressure_difference_layer2_bounds_1) int32 0 ...\n",
       "  * pressure_difference_layer_bounds_1                                          (pressure_difference_layer_bounds_1) int32 0 ...\n",
       "  * sigma_layer_bounds_1                                                        (sigma_layer_bounds_1) int32 0 ...\n",
       "  * time2_bounds_1                                                              (time2_bounds_1) int32 0 ...\n",
       "Data variables:\n",
       "    LatLon_Projection                                                           int32 0 ...\n",
       "    time2_bounds                                                                (time2_bounds_1) datetime64[ns] 2015-09-04 ...\n",
       "    depth_below_surface_layer_bounds                                            (depth_below_surface_layer, depth_below_surface_layer_bounds_1) float32 0.0 ...\n",
       "    height_above_ground_layer_bounds                                            (height_above_ground_layer, height_above_ground_layer_bounds_1) float32 3000.0 ...\n",
       "    pressure_difference_layer_bounds                                            (pressure_difference_layer, pressure_difference_layer_bounds_1) float32 3000.0 ...\n",
       "    height_above_ground_layer1_bounds                                           (height_above_ground_layer1, height_above_ground_layer1_bounds_1) float32 6000.0 ...\n",
       "    pressure_difference_layer1_bounds                                           (pressure_difference_layer1, pressure_difference_layer1_bounds_1) float32 25500.0 ...\n",
       "    sigma_layer_bounds                                                          (sigma_layer, sigma_layer_bounds_1) float32 0.44 ...\n",
       "    pressure_difference_layer2_bounds                                           (pressure_difference_layer2, pressure_difference_layer2_bounds_1) float32 18000.0 ...\n",
       "    Total_ozone_entire_atmosphere_single_layer                                  (lat, lon) float64 342.3 ...\n",
       "    Ozone_Mixing_Ratio_isobaric                                                 (isobaric, lat, lon) float64 1.116e-05 ...\n",
       "    Momentum_flux_u-component_surface_Mixed_intervals_Average                   (lat, lon) float64 0.034 ...\n",
       "    Momentum_flux_v-component_surface_Mixed_intervals_Average                   (lat, lon) float64 0.013 ...\n",
       "    Surface_Lifted_Index_surface                                                (lat, lon) float64 7.3 ...\n",
       "    Downward_Short-Wave_Radiation_Flux_surface_Mixed_intervals_Average          (lat, lon) float64 121.0 ...\n",
       "    Downward_Long-Wave_Radp_Flux_surface_Mixed_intervals_Average                (lat, lon) float64 261.0 ...\n",
       "    Pressure_middle_cloud_bottom_Mixed_intervals_Average                        (lat, lon) float64 nan ...\n",
       "    Pressure_middle_cloud_top_Mixed_intervals_Average                           (lat, lon) float64 nan ...\n",
       "    Pressure_convective_cloud_bottom                                            (lat, lon) float64 nan ...\n",
       "    Pressure_convective_cloud_top                                               (lat, lon) float64 nan ...\n",
       "    Pressure_low_cloud_bottom_Mixed_intervals_Average                           (lat, lon) float64 nan ...\n",
       "    Pressure_low_cloud_top_Mixed_intervals_Average                              (lat, lon) float64 nan ...\n",
       "    Ventilation_Rate_planetary_boundary                                         (lat, lon) float64 0.0 ...\n",
       "    Pressure_high_cloud_top_Mixed_intervals_Average                             (lat, lon) float64 nan ...\n",
       "    Vertical_Speed_Shear_potential_vorticity_surface                            (potential_vorticity_surface, lat, lon) float64 nan ...\n",
       "    Pressure_high_cloud_bottom_Mixed_intervals_Average                          (lat, lon) float64 nan ...\n",
       "    MSLP_Eta_model_reduction_msl                                                (lat, lon) float64 1.019e+05 ...\n",
       "    Vertical_Speed_Shear_tropopause                                             (lat, lon) float64 -0.0028 ...\n",
       "    Wind_speed_gust_surface                                                     (lat, lon) float64 2.3 ...\n",
       "    Pressure_of_level_from_which_parcel_was_lifted_pressure_difference_layer    (pressure_difference_layer1, lat, lon) float64 9.141e+04 ...\n",
       "    Temperature_middle_cloud_top_Mixed_intervals_Average                        (lat, lon) float64 nan ...\n",
       "    Temperature_high_cloud_top_Mixed_intervals_Average                          (lat, lon) float64 nan ...\n",
       "    Temperature_low_cloud_top_Mixed_intervals_Average                           (lat, lon) float64 nan ...\n",
       "    Categorical_Rain_surface_Mixed_intervals_Average                            (lat, lon) float64 0.0 ...\n",
       "    Potential_Evaporation_Rate_surface                                          (lat, lon) float64 114.0 ...\n",
       "    Volumetric_Soil_Moisture_Content_depth_below_surface_layer                  (depth_below_surface_layer, lat, lon) float64 0.282 ...\n",
       "    Ice_cover_surface                                                           (lat, lon) float64 0.0 ...\n",
       "    Land_cover_0__sea_1__land_surface                                           (lat, lon) float64 1.0 ...\n",
       "    Pressure_surface                                                            (lat, lon) float64 9.426e+04 ...\n",
       "    Specific_humidity_pressure_difference_layer                                 (pressure_difference_layer, lat, lon) float64 0.003812 ...\n",
       "    Temperature_surface                                                         (lat, lon) float64 276.2 ...\n",
       "    Temperature_pressure_difference_layer                                       (pressure_difference_layer, lat, lon) float64 282.9 ...\n",
       "    Albedo_surface_Mixed_intervals_Average                                      (lat, lon) float64 25.6 ...\n",
       "    Relative_humidity_sigma_layer                                               (sigma_layer, lat, lon) float64 45.0 ...\n",
       "    Relative_humidity_pressure_difference_layer                                 (pressure_difference_layer, lat, lon) float64 47.0 ...\n",
       "    Haines_Index_surface                                                        (lat, lon) float64 5.0 ...\n",
       "    Soil_temperature_depth_below_surface_layer                                  (depth_below_surface_layer, lat, lon) float64 281.4 ...\n",
       "    u-component_of_wind_pressure_difference_layer                               (pressure_difference_layer, lat, lon) float64 -2.37 ...\n",
       "    v-component_of_wind_pressure_difference_layer                               (pressure_difference_layer, lat, lon) float64 -0.15 ...\n",
       "    Geopotential_height_surface                                                 (lat, lon) float64 656.2 ...\n",
       "    Water_runoff_surface_Mixed_intervals_Accumulation                           (lat, lon) float64 0.888 ...\n",
       "    Convective_available_potential_energy_surface                               (lat, lon) float64 0.0 ...\n",
       "    Convective_available_potential_energy_pressure_difference_layer             (pressure_difference_layer2, lat, lon) float64 0.0 ...\n",
       "    Convective_inhibition_pressure_difference_layer                             (pressure_difference_layer2, lat, lon) float64 0.0 ...\n",
       "    Convective_inhibition_surface                                               (lat, lon) float64 0.0 ...\n",
       "    Precipitation_rate_surface_Mixed_intervals_Average                          (lat, lon) float64 0.0 ...\n",
       "    Storm_relative_helicity_height_above_ground_layer                           (height_above_ground_layer, lat, lon) float64 53.0 ...\n",
       "    Total_precipitation_surface_Mixed_intervals_Accumulation                    (lat, lon) float64 0.0 ...\n",
       "    Convective_precipitation_surface_Mixed_intervals_Accumulation               (lat, lon) float64 0.0 ...\n",
       "    Latent_heat_net_flux_surface_Mixed_intervals_Average                        (lat, lon) float64 33.0 ...\n",
       "    Sensible_heat_net_flux_surface_Mixed_intervals_Average                      (lat, lon) float64 -10.0 ...\n",
       "    Snow_depth_surface                                                          (lat, lon) float64 0.0 ...\n",
       "    Water_equivalent_of_accumulated_snow_depth_surface                          (lat, lon) float64 0.0 ...\n",
       "    Total_cloud_cover_high_cloud_Mixed_intervals_Average                        (lat, lon) float64 0.0 ...\n",
       "    Total_cloud_cover_convective_cloud                                          (lat, lon) float64 0.0 ...\n",
       "    Total_cloud_cover_middle_cloud_Mixed_intervals_Average                      (lat, lon) float64 0.0 ...\n",
       "    Total_cloud_cover_boundary_layer_cloud_Mixed_intervals_Average              (lat, lon) float64 0.0 ...\n",
       "    Total_cloud_cover_low_cloud_Mixed_intervals_Average                         (lat, lon) float64 0.0 ...\n",
       "    Cloud_Work_Function_entire_atmosphere_single_layer_Mixed_intervals_Average  (lat, lon) float64 0.0 ...\n",
       "    Sunshine_Duration_surface                                                   (lat, lon) float64 1.215e+04 ...\n",
       "    Best_4_layer_Lifted_Index_surface                                           (lat, lon) float64 6.3 ...\n",
       "    Upward_Short-Wave_Radiation_Flux_atmosphere_top_Mixed_intervals_Average     (lat, lon) float64 49.0 ...\n",
       "    Upward_Short-Wave_Radiation_Flux_surface_Mixed_intervals_Average            (lat, lon) float64 31.0 ...\n",
       "    Upward_Long-Wave_Radp_Flux_atmosphere_top_Mixed_intervals_Average           (lat, lon) float64 253.0 ...\n",
       "    Upward_Long-Wave_Radp_Flux_surface_Mixed_intervals_Average                  (lat, lon) float64 349.0 ...\n",
       "    5-Wave_Geopotential_Height_isobaric                                         (isobaric1, lat, lon) float64 5.662e+03 ...\n",
       "    Relative_humidity_entire_atmosphere_single_layer                            (lat, lon) float64 22.0 ...\n",
       "    Relative_humidity_highest_tropospheric_freezing                             (lat, lon) float64 60.0 ...\n",
       "    Categorical_Freezing_Rain_surface_Mixed_intervals_Average                   (lat, lon) float64 0.0 ...\n",
       "    Ground_Heat_Flux_surface_Mixed_intervals_Average                            (lat, lon) float64 13.0 ...\n",
       "    Wilting_Point_surface                                                       (lat, lon) float64 0.0469 ...\n",
       "    Per_cent_frozen_precipitation_surface                                       (lat, lon) float64 0.0 ...\n",
       "    Temperature_isobaric                                                        (isobaric3, lat, lon) float64 230.6 ...\n",
       "    Relative_humidity_isobaric                                                  (isobaric3, lat, lon) float64 0.09 ...\n",
       "    Relative_humidity_zeroDegC_isotherm                                         (lat, lon) float64 60.0 ...\n",
       "    u-component_of_wind_isobaric                                                (isobaric3, lat, lon) float64 -1.8 ...\n",
       "    v-component_of_wind_isobaric                                                (isobaric3, lat, lon) float64 -3.5 ...\n",
       "    Geopotential_height_isobaric                                                (isobaric3, lat, lon) float64 3.149e+04 ...\n",
       "    Geopotential_height_zeroDegC_isotherm                                       (lat, lon) float64 1.986e+03 ...\n",
       "    U-Component_Storm_Motion_height_above_ground_layer                          (height_above_ground_layer1, lat, lon) float64 -9.96 ...\n",
       "    Zonal_Flux_of_Gravity_Wave_Stress_surface_Mixed_intervals_Average           (lat, lon) float64 -0.403 ...\n",
       "    u-component_of_wind_planetary_boundary                                      (lat, lon) float64 -1.7 ...\n",
       "    Categorical_Ice_Pellets_surface_Mixed_intervals_Average                     (lat, lon) float64 0.0 ...\n",
       "    Vertical_velocity_pressure_isobaric                                         (isobaric2, lat, lon) float64 -0.02039 ...\n",
       "    Absolute_vorticity_isobaric                                                 (isobaric3, lat, lon) float64 0.0001151 ...\n",
       "    Pressure_reduced_to_MSL_msl                                                 (lat, lon) float64 1.02e+05 ...\n",
       "    Cloud_mixing_ratio_isobaric                                                 (isobaric2, lat, lon) float64 0.0 ...\n",
       "    Pressure_maximum_wind                                                       (lat, lon) float64 2.757e+04 ...\n",
       "    Temperature_altitude_above_msl                                              (altitude_above_msl, lat, lon) float64 274.5 ...\n",
       "    Temperature_maximum_wind                                                    (lat, lon) float64 226.4 ...\n",
       "    u-component_of_wind_altitude_above_msl                                      (altitude_above_msl, lat, lon) float64 -1.49 ...\n",
       "    u-component_of_wind_maximum_wind                                            (lat, lon) float64 7.0 ...\n",
       "    ICAO_Standard_Atmosphere_Reference_Height_maximum_wind                      (lat, lon) float64 9.725e+03 ...\n",
       "    v-component_of_wind_maximum_wind                                            (lat, lon) float64 -45.8 ...\n",
       "    v-component_of_wind_altitude_above_msl                                      (altitude_above_msl, lat, lon) float64 -2.06 ...\n",
       "    Apparent_temperature_height_above_ground                                    (height_above_ground, lat, lon) float64 276.3 ...\n",
       "    Geopotential_height_maximum_wind                                            (lat, lon) float64 9.746e+03 ...\n",
       "    V-Component_Storm_Motion_height_above_ground_layer                          (height_above_ground_layer1, lat, lon) float64 -4.59 ...\n",
       "    Meridional_Flux_of_Gravity_Wave_Stress_surface_Mixed_intervals_Average      (lat, lon) float64 -0.735 ...\n",
       "    Field_Capacity_surface                                                      (lat, lon) float64 0.2821 ...\n",
       "    v-component_of_wind_planetary_boundary                                      (lat, lon) float64 0.1 ...\n",
       "    Precipitable_water_entire_atmosphere_single_layer                           (lat, lon) float64 9.7 ...\n",
       "    Categorical_Snow_surface_Mixed_intervals_Average                            (lat, lon) float64 0.0 ...\n",
       "    Pressure_height_above_ground                                                (height_above_ground2, lat, lon) float64 9.336e+04 ...\n",
       "    Pressure_tropopause                                                         (lat, lon) float64 2.416e+04 ...\n",
       "    Specific_humidity_height_above_ground                                       (height_above_ground1, lat, lon) float64 0.00393 ...\n",
       "    Temperature_height_above_ground                                             (height_above_ground4, lat, lon) float64 277.6 ...\n",
       "    Temperature_tropopause                                                      (lat, lon) float64 223.1 ...\n",
       "    Relative_humidity_height_above_ground                                       (height_above_ground, lat, lon) float64 70.7 ...\n",
       "    u-component_of_wind_height_above_ground                                     (height_above_ground3, lat, lon) float64 -1.65 ...\n",
       "    u-component_of_wind_tropopause                                              (lat, lon) float64 7.7 ...\n",
       "    ICAO_Standard_Atmosphere_Reference_Height_tropopause                        (lat, lon) float64 1.058e+04 ...\n",
       "    v-component_of_wind_height_above_ground                                     (height_above_ground3, lat, lon) float64 0.1 ...\n",
       "    v-component_of_wind_tropopause                                              (lat, lon) float64 -43.8 ...\n",
       "    Maximum_temperature_height_above_ground_Mixed_intervals_Maximum             (height_above_ground, lat, lon) float64 286.7 ...\n",
       "    Geopotential_height_tropopause                                              (lat, lon) float64 1.061e+04 ...\n",
       "    Minimum_temperature_height_above_ground_Mixed_intervals_Minimum             (height_above_ground, lat, lon) float64 277.6 ...\n",
       "    Dewpoint_temperature_height_above_ground                                    (height_above_ground, lat, lon) float64 272.8 ...\n",
       "    Temperature_sigma                                                           (sigma, lat, lon) float64 282.9 ...\n",
       "    Relative_humidity_sigma                                                     (sigma, lat, lon) float64 48.0 ...\n",
       "    Potential_temperature_sigma                                                 (sigma, lat, lon) float64 288.2 ...\n",
       "    u-component_of_wind_sigma                                                   (sigma, lat, lon) float64 -2.36 ...\n",
       "    v-component_of_wind_sigma                                                   (sigma, lat, lon) float64 0.09 ...\n",
       "    Planetary_Boundary_Layer_Height_surface                                     (lat, lon) float64 22.04 ...\n",
       "    Convective_Precipitation_Rate_surface_Mixed_intervals_Average               (lat, lon) float64 0.0 ...\n",
       "    Vertical_velocity_pressure_sigma                                            (sigma, lat, lon) float64 2.222 ...\n",
       "    Total_cloud_cover_entire_atmosphere_Mixed_intervals_Average                 (lat, lon) float64 1.0 ...\n",
       "    Geopotential_height_highest_tropospheric_freezing                           (lat, lon) float64 1.986e+03 ...\n",
       "    Cloud_water_entire_atmosphere_single_layer                                  (lat, lon) float64 0.0 ...\n",
       "    Pressure_potential_vorticity_surface                                        (potential_vorticity_surface, lat, lon) float64 nan ...\n",
       "    Temperature_potential_vorticity_surface                                     (potential_vorticity_surface, lat, lon) float64 nan ...\n",
       "    u-component_of_wind_potential_vorticity_surface                             (potential_vorticity_surface, lat, lon) float64 nan ...\n",
       "    v-component_of_wind_potential_vorticity_surface                             (potential_vorticity_surface, lat, lon) float64 nan ...\n",
       "    Geopotential_height_potential_vorticity_surface                             (potential_vorticity_surface, lat, lon) float64 nan ...\n",
       "Attributes:\n",
       "    Originating_or_generating_Center: US National Weather Service, National Centres for Environmental Prediction (NCEP)\n",
       "    Originating_or_generating_Subcenter: 0\n",
       "    GRIB_table_version: 2,1\n",
       "    Type_of_generating_process: Forecast\n",
       "    Analysis_or_forecast_generating_process_identifier_defined_by_originating_centre: Analysis from GFS (Global Forecast System)\n",
       "    file_format: GRIB-2\n",
       "    Conventions: CF-1.6\n",
       "    history: Read using CDM IOSP GribCollection v3\n",
       "    featureType: GRID\n",
       "    _CoordSysBuilder: ucar.nc2.dataset.conv.CF1Convention"
      ]
     },
     "execution_count": 19,
     "metadata": {},
     "output_type": "execute_result"
    }
   ],
   "source": [
    "ds_snapshot"
   ]
  },
  {
   "cell_type": "code",
   "execution_count": 20,
   "metadata": {
    "collapsed": false
   },
   "outputs": [],
   "source": [
    "#ds_snapshot.to_netcdf('ds_snapshot.nc')"
   ]
  },
  {
   "cell_type": "code",
   "execution_count": null,
   "metadata": {
    "collapsed": false
   },
   "outputs": [],
   "source": []
  }
 ],
 "metadata": {
  "gist_id": "047235496029529585cc",
  "kernelspec": {
   "display_name": "Python 2",
   "language": "python",
   "name": "python2"
  },
  "language_info": {
   "codemirror_mode": {
    "name": "ipython",
    "version": 2
   },
   "file_extension": ".py",
   "mimetype": "text/x-python",
   "name": "python",
   "nbconvert_exporter": "python",
   "pygments_lexer": "ipython2",
   "version": "2.7.10"
  }
 },
 "nbformat": 4,
 "nbformat_minor": 0
}
